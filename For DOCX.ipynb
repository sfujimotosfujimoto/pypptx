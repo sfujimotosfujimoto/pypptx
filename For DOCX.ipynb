{
 "cells": [
  {
   "cell_type": "markdown",
   "metadata": {},
   "source": [
    "# For DOCX"
   ]
  },
  {
   "cell_type": "code",
   "execution_count": 1,
   "metadata": {
    "collapsed": true
   },
   "outputs": [],
   "source": [
    "from docx import Document\n",
    "import docx"
   ]
  },
  {
   "cell_type": "code",
   "execution_count": 2,
   "metadata": {
    "collapsed": true
   },
   "outputs": [],
   "source": [
    "document = Document()\n"
   ]
  },
  {
   "cell_type": "code",
   "execution_count": 9,
   "metadata": {},
   "outputs": [
    {
     "data": {
      "text/plain": [
       "<docx.text.run.Run at 0x1150e2c50>"
      ]
     },
     "execution_count": 9,
     "metadata": {},
     "output_type": "execute_result"
    }
   ],
   "source": [
    "paragraph = document.add_paragraph('Lorem ipsum dolor sit amet.',style=\"Title\")\n",
    "run = paragraph.add_run('dolor')\n",
    "run.bold = True\n",
    "paragraph.add_run('sit ametsdsd', style='Emphasis')"
   ]
  },
  {
   "cell_type": "code",
   "execution_count": 10,
   "metadata": {
    "collapsed": true
   },
   "outputs": [],
   "source": [
    "document.save('test.docx')"
   ]
  },
  {
   "cell_type": "code",
   "execution_count": null,
   "metadata": {
    "collapsed": true
   },
   "outputs": [],
   "source": []
  },
  {
   "cell_type": "code",
   "execution_count": null,
   "metadata": {
    "collapsed": true
   },
   "outputs": [],
   "source": []
  },
  {
   "cell_type": "code",
   "execution_count": 7,
   "metadata": {
    "collapsed": true
   },
   "outputs": [],
   "source": [
    "doc = Document('test.docx')"
   ]
  },
  {
   "cell_type": "code",
   "execution_count": 4,
   "metadata": {},
   "outputs": [
    {
     "data": {
      "text/plain": [
       "6"
      ]
     },
     "execution_count": 4,
     "metadata": {},
     "output_type": "execute_result"
    }
   ],
   "source": [
    "len(doc.paragraphs)"
   ]
  },
  {
   "cell_type": "code",
   "execution_count": 5,
   "metadata": {},
   "outputs": [
    {
     "data": {
      "text/plain": [
       "'Lorem ipsum dolor sit amet.'"
      ]
     },
     "execution_count": 5,
     "metadata": {},
     "output_type": "execute_result"
    }
   ],
   "source": [
    "doc.paragraphs[0].text"
   ]
  },
  {
   "cell_type": "code",
   "execution_count": 8,
   "metadata": {},
   "outputs": [
    {
     "name": "stdout",
     "output_type": "stream",
     "text": [
      "Lorem ipsum dolor sit amet.\n",
      "Lorem ipsum dolor sit amet.\n",
      "Lorem ipsum dolor sit amet.dolorsit ametsdsd\n",
      "Lorem ipsum dolor sit amet.dolorsit ametsdsd\n",
      "Lorem ipsum dolor sit amet.\n",
      "Lorem ipsum dolor sit amet.dolorsit ametsdsd\n"
     ]
    }
   ],
   "source": [
    "for p in doc.paragraphs:\n",
    "    print(p.text)"
   ]
  },
  {
   "cell_type": "code",
   "execution_count": 39,
   "metadata": {
    "collapsed": true
   },
   "outputs": [],
   "source": [
    "doc = Document('data/1.docx')"
   ]
  },
  {
   "cell_type": "code",
   "execution_count": null,
   "metadata": {
    "collapsed": true
   },
   "outputs": [],
   "source": []
  },
  {
   "cell_type": "code",
   "execution_count": null,
   "metadata": {
    "collapsed": true
   },
   "outputs": [],
   "source": []
  },
  {
   "cell_type": "code",
   "execution_count": null,
   "metadata": {
    "collapsed": true
   },
   "outputs": [],
   "source": []
  },
  {
   "cell_type": "code",
   "execution_count": null,
   "metadata": {
    "collapsed": true
   },
   "outputs": [],
   "source": []
  },
  {
   "cell_type": "code",
   "execution_count": null,
   "metadata": {
    "collapsed": true
   },
   "outputs": [],
   "source": []
  },
  {
   "cell_type": "code",
   "execution_count": 47,
   "metadata": {},
   "outputs": [
    {
     "data": {
      "text/plain": [
       "539"
      ]
     },
     "execution_count": 47,
     "metadata": {},
     "output_type": "execute_result"
    }
   ],
   "source": [
    "# doc = Document('data/1 動詞の語法（1）_解答.docx')\n",
    "doc = Document('data/1.docx')\n",
    "new_doc = Document()\n",
    "len(doc.paragraphs)"
   ]
  },
  {
   "cell_type": "code",
   "execution_count": 48,
   "metadata": {
    "collapsed": true
   },
   "outputs": [],
   "source": [
    "def rplc(text, text_to_replace, replace_with):\n",
    "    result = text.replace(text_to_replace, replace_with)\n",
    "    return result\n",
    "\n",
    "def rplc_all(text, texts_to_replace, replace_with_these):\n",
    "\n",
    "    for i in range(len(texts_to_replace)):\n",
    "        text = rplc(text, texts_to_replace[i], replace_with_these[i])\n",
    "    return text"
   ]
  },
  {
   "cell_type": "code",
   "execution_count": 49,
   "metadata": {
    "collapsed": true
   },
   "outputs": [],
   "source": [
    "for p in doc.paragraphs:\n",
    "    if len(p.text.strip()) == 0:\n",
    "        p.clear()\n",
    "    else: \n",
    "        result = rplc_all(str(p.text), ['㈰','㈪','㈫','㈬'], ['1) ', '2) ','3) ','4) '])\n",
    "\n",
    "        p.text = result\n",
    "    "
   ]
  },
  {
   "cell_type": "code",
   "execution_count": 50,
   "metadata": {
    "collapsed": true
   },
   "outputs": [],
   "source": [
    "def check_first_letter(text, checking):\n",
    "    result = False\n",
    "    if len(text.strip()) > 0:\n",
    "        if text[0] == checking:\n",
    "            result = True\n",
    "    return result\n",
    "\n",
    "def check_many_letters(text, check_list):\n",
    "    result = False\n",
    "    for c in check_list:\n",
    "        if check_first_letter(text, c):\n",
    "            result = True\n",
    "        else:\n",
    "            result =  False\n",
    "    return result"
   ]
  },
  {
   "cell_type": "code",
   "execution_count": 51,
   "metadata": {
    "collapsed": true
   },
   "outputs": [],
   "source": [
    "import re\n",
    "# pattern = re.compile(r'^([\\d]+|\\【)')\n",
    "pattern = re.compile(r'^([\\d]+|\\(\\d|\\【)')\n",
    "\n",
    "for p in doc.paragraphs:\n",
    "    match = pattern.match(p.text.strip())\n",
    "    if not len(p.text.strip()) == 0:\n",
    "        if match:\n",
    "            new_doc.add_paragraph(p.text)\n",
    "        else:\n",
    "            new_doc.paragraphs[len(new_doc.paragraphs)-1].add_run(p.text).bold = True\n",
    "\n",
    "        "
   ]
  },
  {
   "cell_type": "code",
   "execution_count": 52,
   "metadata": {},
   "outputs": [
    {
     "name": "stdout",
     "output_type": "stream",
     "text": [
      "1. 動詞の語法（1）空所に入れるのに最も適切な語句を，下の1) 〜4) から一つずつ選びなさい。\n",
      "【例題1】I've decided (    ) my secret to Emily.\t1) tell\t2) telling\t3) told\t4) to tell\n",
      "【例題2】If you want to lose weight, you should stop (    ) so much.\t\t1) to eat\t2) eating\t3) to eating\t4) for eating\n",
      "【例題3】Please remember (    ) this letter on your way to school tomorrow.\t1) mailing\t2) mail\t3) to mail\t4) mailed\n",
      "【例題4】My mother wants to have the wall (    ).\t1) repainting\t2) repaint\t3) repainted\t4) repaints\n",
      "【例題5】My parents let me (    ) to a concert last night.\t1) to go\t2) go\t3) going\t4) went\n",
      "【例題6】Our coach wants us (    ) soccer every day.\t\t1) to practice\t2) to practicing\t3) practice\t4) for practicing\n",
      "【例題7】The policeman ordered that I (    ) him my license.\t1) showed\t2) shows\t3) show\t4) to show演習問題（1）空所に入れるのに最も適切な語句を，下の1) 〜4) から一つずつ選びなさい。\n",
      "1. I promised (      ) at Tokyo Station by eight.\t1) to be\t2) being\t3) in being\t4) of being\t（獨協大）\n",
      "2. Tony refused (      ) put up the tent.\t1) to help\t2) helping\t3) have helped\t4) help\t（神奈川大）\n",
      "3. Susan finished (      ) her English composition by 9 o'clock.\t1) written\t2) write\t3) to write\t4) writing\t（愛知大）\n",
      "4. I (      ) to return in December.\t1) consider\t2) suppose\t3) expect\t4) assume\t（獨協大）\n",
      "5. You don't have to avoid (      ) noise when you eat Japanese noodles.\t1) to make\t2) make\t3) making\t4) having made\t（獨協大）\n",
      "6. Kate (      ) to go to the concert with Tommy.\t1) enjoyed\t2) hesitated\t3) gave up\t4) denied\t（北里大）\n",
      "7. Almost everybody fails (      ) the driver's test on the first try.\t1) passing\t2) having passed\t3) to pass\t4) to have passed\t（城西大）\n",
      "8. Remember (      ) some orange juice on your way home.\t1) for getting\t2) get\t3) getting to\t4) to get\t（南山大）\n",
      "9. The doctor did not (      ) the old lady before, but he pretended that he knew her.\t1) remember to meet\t2) remember meeting\t3) forget to meet\t4) forget meeting\t（武庫川女大）\n",
      "10. This letter is important and it must reach him as soon as possible.  Please don't forget (      ) it first thing tomorrow morning.\t1) mail\t2) mailing\t3) to mail\t4) you mailed\t（東京電機大）\n",
      "11. People can get along well without knowing much about language, and only stop (      ) about it if they fail to understand each other.\t1) thinking\t2) to be thought\t3) to have thought\t4) to think\t（京都外語大）\n",
      "12. Beth's parents should (      ) harder because her grades are poor.\t1) force her study\t2) get her to study\t3) having her study\t4) tell her study\t（東京経大）\n",
      "13. How often do you need to get the machine (      ) to prevent problems?\t1) checking\t2) check\t3) checked\t4) to check\t（名古屋工大）\n",
      "14. Shall I have him (      ) you back later?\t1) be calling\t2) call\t3) called\t4) to call\t（立命館大）\n",
      "15. What made you (      ) here and keep working for the village?\t1) stay\t2) staying\t3) to stay\t4) to have stayed\t（京都産大）\n",
      "16. Since the hurricane was approaching, the school decided (      ).1) to let the students leave early\t\t2) to let the students to leave early\t3) to let the students left early\t4) to let the students to be left early\t（学習院大）\n",
      "17. They (      ) the president enter the room.\t1) announced\t2) said\t3) saw\t4) looked\t（活水女大）\n",
      "18. He felt a worm (      ) on his back.\t1) crawl\t2) crawled\t3) crawls\t4) to crawl\t（中部大）\n",
      "19. The boss asked us (      ) this document by 3:00 p.m.\t1) revision\t2) revising\t3) to revise\t4) will revise\t（大阪商大）\n",
      "20. The teacher encouraged us (      ) mathematics harder.\t1) to studying\t2) study\t3) studying\t4) to study\t（桃山学院大）\n",
      "21. Jack had a reservation but his flight was canceled because of the heavy rain, so he was (      ) to take a train.\t1) forbidden\t2) forced\t3) opposed\t4) rejected\t（京都外語大）\n",
      "22. We require (      ) a university degree for this post.\t1) having\t2) you having\t3) to have\t4) you to have\t（立命館大）\n",
      "23. I suggest (      ) the invitation; I feel there is something strange about it.\t1) for you decline\t2) for you to decline\t3) you decline\t4) you to decline\t（千葉商大）\n",
      "24. The judge ordered that John (      ) away from her.\t1) stay\t2) staying\t3) stays\t\t4) will stay\t（日本女大）（2）次の英文の下線部には誤っている箇所がそれぞれ一つずつある。その番号を指摘した上で，正しい形に直しなさい。\n",
      "1. It is said that a lack of vitamin A may cause young children to developing certain diseases.\t（金沢工大）\n",
      "2. In the car from the airport, I enjoyed to talk with my host father and mother.  They spoke to me slowly, so I understood what they said.\t（慶應大）\n",
      "3. The students are not permitted leaving the school grounds during the school day without an official pass.  This pass is only issued after a written request or telephone call from the students' parent.\t（学習院大）\n",
      "4. Would you mind to smoke when the children are not at home?\t（立正大）（3）次の（　）内の語または語句を並べかえて英文を完成させなさい。\n",
      "1. I need ( have / my / possible / old / repaired / computer / to / as soon as ).\t（静岡県立大）\n",
      "2. ( the / him / problem / I / helped / solve ).\t（学習院大）\n",
      "3. Although the majority of doctors agree that smoking is extremely harmful to our health, it is very difficult to ( all / give / persuade / smokers / to / the / up ) habit.（立教大）（4）次の日本文の意味になるように，（　）内の語を並べかえて英文を完成させなさい。\n",
      "1. 弟は，海外の大学へ留学できる奨学金を手に入れた。My brother won ( go / which / a / him / enabled / to / scholarship ) to college abroad.\t（立命館大）\n",
      "2. なぜあなたは考えを変えたのですか。 ( you / change / to / caused / what / your ) mind?\t（九州国際大）\n",
      "3. 彼は誇り高いので，いかなる報酬も受け取ろうとしなかった。His pride ( would / him / any / not / to / accept / allow ) reward.\t（青山学院大）\n",
      "4. その医者は京子にたばこをやめるように忠告した。 ( the / Kyoko / to / doctor / stop / advised / smoking ).\t（獨協大）\n",
      "2. 動詞の語法（2）空所に入れるのに最も適切な語句を，下の1) 〜4) から一つずつ選びなさい。\n",
      "【例題8】I got wet in the rain on my way home, so I (    ) cold now.\t1) take\t2) get\t3) feel\t4) make\n",
      "【例題9】The students (    ) the future of Japan.\t1) discussed\t2) discussed about\t3) discussed of\t4) discussed with\n",
      "【例題10】The carpet was (    ) in the living room.\t1) lay\t2) lied\t3) lain\t4) laid\n",
      "【例題11】Some drugs can (    ) you harm.\t1) take\t2) do\t3) feel\t4) help\n",
      "【例題12】I asked him how to answer the question, but he didn't (    ).\t1) explain me it\t2) explain it me\t3) explain to me it\t4) explain it to me\n",
      "【例題13】He is absent today, so I'll (    ) him the story later.\t1) say\t2) tell\t3) speak\t4) talk\n",
      "【例題14】This picture (    ) me of my childhood.\t1) reminds\t2) remembers\t3) recalls\t4) memorizes\n",
      "【例題15】Nancy was (    ) of her new bag.\t1) robbed\t2) stolen\t3) taken\t4) made\n",
      "【例題16】Nothing (    ) her from becoming a singer.\t1) avoided\t2) ended\t3) made\t4) stopped演習問題（1）空所に入れるのに最も適切な語句を，下の1) 〜4) から一つずつ選びなさい。\n",
      "1. Don't climb up that ladder!  It doesn't look (      ).\t1) safe\t2) safely\t3) in safety\t4) safety\t（福岡大）\n",
      "2. When she tried to bake a cake, something went (      ) and it tasted terrible.\t1) on\t2) in\t3) wrong\t4) out\t（東京家政大）\n",
      "3. \"Will you (      ) me?\" is a common way to propose to a woman in English.\t1) marry\t2) get married\t3)  be married to\t4) marry with\t（関西学院大）\n",
      "4. Our class discussed (      ) arising from poverty.\t1) the global issues\t2) around the global issues\t3) on the global issues\t4) over the global issues\t（中央大）\n",
      "5. Many people say to me, \"You really (      ) your mother.\"\t1) are resembling\t2) resemble\t3) resemble like\t4) resemble to\t（大阪電通大）\n",
      "6. The storm was (      ) our town.\t1) approaching\t2) coming\t3) arriving\t4) getting\t（東亜大）\n",
      "7. You'll have to apologize to your father (      ) breaking that glass.\t1) with\t2) in\t3) by\t4) for\t（桜美林大）\n",
      "8. A: When will it be convenient to come here?\tB: Any time will (      ).\t1) good\t2) be well\t3) be\t4) do\t（流通経済大）\n",
      "9. Because of the noise, Tom had to (      ) his voice to be heard.\t1) rise\t2) raise\t3) heighten\t4) stand\t（芝浦工大）\n",
      "10. After some hesitation, he (      ) the book on the desk.\t1) laid\t2) lied\t3) lay\t4) lain\t（東亜大）\n",
      "11. Very tired, I felt like (      ) on the bed.\t1) being lain\t2) laying\t3) lying\t4) lying myself\t（実践女大）\n",
      "12. Did the typhoon (      ) any harm to your house?\t1) do\t2) give\t3) put\t4) set\t（千葉商大）\n",
      "13. Could you do (      ) ?\t1) me a favor\t2) for my being a favor\t3) a favor to me\t4) favoring of me\t（関西学院大）\n",
      "14. If I buy a second-hand computer, it will (      ) me hundreds of dollars.\t1) add\t2) help\t3) keep\t4) save\t（センター試験）\n",
      "15. This computer cost (      ) my whole salary last month.\t1) me\t2) to me\t3) of me\t4) for me\t（京都産大）\n",
      "16. The landlord of the apartment (      ) him about 90,000 yen per month in rent.\t1) costs\t2) charges\t3) takes\t4) pays\t（東京家政大）\n",
      "17. I don't have a pen with me.  Can you (      ) me one, please?\t1) lend\t2) borrow\t3)  rent\t4) hire\t（高崎経大）\n",
      "18. We (      ) the problem till late at night.\t1) talked with\t2) talked\t3) talked about\t4) talked to\t（桃山学院大）\n",
      "19. I don't know why they told me (      ) on the corner.  The bus stop was in the middle of the block.\t1) having to wait\t2) to be waited\t3) to have waited\t4) to wait\t（センター試験）\n",
      "20. What did he (      ) to you?  Anything interesting?\t1) ask\t2) say\t3) talk\t4) tell\t（学習院大）\n",
      "21. The seven o'clock news (      ) it's going to rain.\t1) say\t2) says\t3) was said\t4) are saying\t（獨協大）\n",
      "22. Can you (      ) me which one is his?\t1) talk\t2) speak\t3) say\t4) tell\t（高千穂商大）\n",
      "23. It is very difficult for me to (      ) this matter.\t1) discuss about\t2) talk\t3) speak about\t4) tell\t（東北学院大）\n",
      "24. When I look at this picture, it always (      ) me of my grandmother.\t1) recalls\t2) reminds\t3) remembers\t4) recognizes\t（昭和女大）\n",
      "25. Please inform (      ) the economic situation in China after you get there.\t1) me of\t2) me\t3) for me about\t4) to me\t（桃山学院大）\n",
      "26. Someone has robbed us (      ) all our money.\t1) from\t2) at\t3) by\t4) of\t（上智大）\n",
      "27. A train crash prevented him (      ) the meeting.\t1) attended\t2) by attending\t3) from attending\t4) to attend\t（大阪電通大）\n",
      "28. The man built a fire in order to keep his hands (      ) freezing.\t1) from\t2) out of\t3) away\t4) for\t（国士舘大）\n",
      "29. Minors are prohibited (      ) smoking in our country.\t1) for\t2) from\t3) in\t4) of\t（千葉商大）\n",
      "30. A few minutes' walk (      ) me to the ruins of Olympia.\t1) arrived\t2) brought\t3) came\t4) reached\t（南山大）（2）次の英文の下線部には誤っている箇所がそれぞれ一つずつある。その番号を指摘した上で，正しい形に直しなさい。\n",
      "1. The value of the yen declines as the rate of inflation raises.\t（早稲田大）\n",
      "2. When I graduated the high school, I was so exhausted that I decided to go to university to rest for four years.\t（上智大）\n",
      "3. While the proposal seemed acceptably to student leaders, the president considered it impractical.\t（成蹊大）\n",
      "4. Mary explained me how the new computer system worked at her school.\t（明海大）（3）次の日本文の意味になるように，（　）内の語または語句を並べかえて英文を完成させなさい。\n",
      "1. 病気のせいで，残念ながらあなたにお目にかかれませんでした。\tSickness ( of / pleasure / you / deprived / the / seeing / of / me ).\t（姫路工大）\n",
      "2. ちょっと考えてみれば，君が間違っていることが分かるでしょう。\tA ( you are / that / wrong / little / will / you / consideration / tell ).\t（東京家政大）\n",
      "3. この曲がりくねった道を行けば美術館に出ます。\t( this / will / you / take / the / to / road / museum / winding ).\t（獨協大）\n",
      "4. この本を読めば，ハーブ栽培に必要な知識が得られます。\t( readers / this book / provide / will / the knowledge / with ) they need in order to plant herbs.\t（武庫川女大）\n",
      "5. この薬は君によく効くでしょう。\t( medicine / will / you / do / this / good ).\t（日本工大）\n",
      "6. パソコンのおかげで，大幅に時間と労力が省けます。\t( a / us / spares / personal computer / time and / a lot of / energy ).\t（神奈川工科大）\n",
      "3. 時制空所に入れるのに最も適切な語句を，下の1) 〜4) から一つずつ選びなさい。\n",
      "【例題17】When I heard that she was married, I (    ) very surprised.\t1) be\t2) am\t3) was\t4) will be\n",
      "【例題18】She usually gets up at 6, but at this moment she (    ).\t1) was sleeping\t2) is sleeping\t3) slept\t4) sleeps\n",
      "【例題19】Tom (    ) to the music club at school.\t1) belongs\t2) is belonging\t3) is belonged\t4) belong\n",
      "【例題20】If David climbs Mt. Fuji tomorrow, he (    ) it three times.\t1) climbs\t2) has climbed\t3) will have climbed\t4) had climbed\n",
      "【例題21】As the examination is near, Mike (    ) since this morning.\t1) is studying\t2) was studying\t3) has been studying\t4) had been studying\n",
      "【例題22】A: When (    ) Mary?B: Just now.\t1) have you seen\t2) did you see\t3) are you seeing\t4) were you seeing\n",
      "【例題23】I'll apologize to her when she (    ) back.\t1) came\t2) comes\t3) will come\t4) will have come\n",
      "【例題24】Where (    ) meet Jane today?\t1) are you\t2) are you going to\t3) will you to\t4) will you going to\n",
      "【例題25】The famous writer (    ) for five years.\t1) died\t2) has been dead\t3) was killed\t4) is dying演習問題（1）空所に入れるのに最も適切な語句を，下の1) 〜4) から一つずつ選びなさい。\n",
      "1. On Friday nights I usually (      ) some money from the bank and then go to the supermarket.\t1) withdrew\t2) withdraw\t3) am withdrawing\t4) shall withdraw\t（國學院大）\n",
      "2. Bill kept his coat on, although it (      ) warm in the room.\t1) is\t2) was\t3) has been\t4) must be\t（上智大）\n",
      "3. My friends arrived when (      ).\t1) I was cooking\t2) I cooked\t3) I should cook\t4) I cook\t（東海大）\n",
      "4. I don't think I can meet you at six tomorrow night because we have a lot of extra work this month.  Probably, (      ).\t1) I'll still be working\t2) I'll still work\t3) I'm still at work\t4) I'm still working\t（センター試験）\n",
      "5. Most mail these days (      ) nothing that can be truly called a letter.\t1) are contained\t2) contain\t3) contains\t4) is containing\t（日本女大）\n",
      "6. Fred got sick last week and (      ) in bed since that time.\t1) is\t2) was\t3) has been\t4) had been\t（城西大）\n",
      "7. Tommy (      ) the assignment by the time his father gets home.\t1) finished\t2) had finished\t3) was finishing\t4) will have finished\t（立命館大）\n",
      "8. When I got to the classroom, the lesson (      ).\t1) already begins\t2) had already begun\t3) has already begun\t4) is already beginning\t（学習院大）\n",
      "9. The waitress (      ) at the restaurant since last week.\t1) has been working\t2) is working\t3) worked\t4) works\t（日本大）\n",
      "10. We (      ) playing baseball for about half an hour when it started to rain very heavily.\t1) had been\t2) have been\t3) might be\t4) would be\t（センター試験）\n",
      "11. It (      ) for a whole week if it doesn't stop tomorrow.\t1) has snowed\t2) is snowing\t3) will snow\t4) will have been snowing\t（東京理大）\n",
      "12. Jim and I are good friends.  We (      ) each other for two years.\t1) know\t2) have known\t3) have been knowing\t4) knew\t（上智大）\n",
      "13. If it (      ) raining soon, shall we go out for a walk?\t1) stopped\t2) stops\t3) will stop\t4) would stop\t（センター試験）\n",
      "14. I plan to study abroad as soon as I (      ) this English course.\t1) had finished\t2) have finished\t3) will finish\t4) will have finished\t（明星大）\n",
      "15. I don't know when Mrs. Thompson (      ) back.\t1) come\t2) to come\t3) coming\t4) will come\t（名古屋学院大）\n",
      "16. Won't you pass me the paper when you (      ) ?\t1) read it\t2) will read it\t3) have read it\t4) will have read it\t（神戸松蔭女学院大）\n",
      "17. It (      ) ten years since they got married.\t1) passed\t2) has passed\t3) is passed\t4) has been\t（関西外語大）\n",
      "18. (      ) she died.\t1) Three years passed from\t2) Three years are passing after\t3) Three years have passed since\t4) It was three years that\t（立命館大）（2）以下の英文の下線部には誤っている箇所がそれぞれ一つずつある。その番号を指摘した上で，正しい形に直しなさい。\n",
      "1. When I was in college, I was belonging to the tennis club.\t（札幌大）\n",
      "2. Mr. and Mrs. Harris are an American couple who has settled in Japan more than twenty years ago.\t（昭和女大）\n",
      "3. The steak the next-door neighbors are barbecuing in their backyard is smelling good.\t（法政大）\n",
      "4. They appointed Mr. Lee to the post of manager last May, and he is in charge ever since.（桃山学院大）\n",
      "5. We will notify you as soon as we will have further information.\t（学習院大）\n",
      "6. By the time we get to the concert hall, the best places have been taken.\t（日本大）（3）次の日本文の意味になるように，（　）内の語または語句を並べかえて英文を完成させなさい。\n",
      "1. 私の娘は5年以上かぜをひいていないんですよ。My daughter ( had / cold / for / has / a / not ) more than five years.\t（関東学院大）\n",
      "2. 今度の会合で環境汚染の問題を取り上げるつもりでいます。I ( to / take up / going / pollution / of / am / the problem / environmental ) at the coming meeting.\t（東京家政大）\n",
      "3. 私の祖父が死んで８年になります。（２語不要）My grandfather ( dead / died / years / since / been / for / eight / has ).\t（北海道大医療技術短大部）\n",
      "4. 筆者の意図を読み取るためには，読もうとする作品に興味や関心を持つことが重要だ。In order to grasp the author's intent, it is vital to take an interest in and ( what / about / are / you / with / be / concerned ) to read.\t（広島修道大）\n",
      "5. 私は20年前に日本に来て以来ずっと「変な外人」と呼ばれてきました。\"Hen na gaijin\" is a term people have ( since / me / used / came to Japan / describe / I / to ) twenty years ago.\t（関西外語大）\n",
      "4. 態空所に入れるのに最も適切な語句を，下の1) 〜4) から一つずつ選びなさい。\n",
      "【例題26】Portuguese (    ) in Brazil.\t1) is spoken\t2) is speaking\t3) speaks\t4) spoke\n",
      "【例題27】Kangaroos (    ) in Australia.\t1) can be found\t2) are founded\t3) can found\t4) are can found\n",
      "【例題28】I was spoken (    ) a pretty girl yesterday.\t1) by\t2) to\t3) by to\t4) to by\n",
      "【例題29】The song (    ) by people all over the world for many years.\t1) has loved\t2) has been loved\t3) loved\t4) is loving\n",
      "【例題30】Ann's birthday cake (    ) by her mother now.\t1) is being made\t2) is being making\t3) is making\t4) has made\n",
      "【例題31】We (    ) our new school uniform.\t1) satisfy with\t2) are satisfied with\t3) are satisfied to\t4) satisfy\n",
      "【例題32】She was made (    ) overtime by her boss.\t1) work\t2) be worked\t3) to be worked\t4) to work演習問題（1）空所に入れるのに最も適切な語句を，下の1) 〜4) から一つずつ選びなさい。\n",
      "1. Extra money (      ) to those who come to work during holidays.\t1) is paid\t2) is paying\t3) pays\t4) will pay\t（近畿大）\n",
      "2. The meat went bad and (      ) away.\t1) had to throw\t2) should throw\t3) must throw\t4) had to be thrown\t（松山大）\n",
      "3. She was (      ) by those naughty boys because she was wearing a funny-looking hat.\t1) being laughed\t2) laughed\t3) laughed at\t4) laughed for\t（城西大）\n",
      "4. Please fasten your seat belt and refrain from smoking until the sign ahead of you (      ).\t1) is turned off\t2) turned off\t3) will be turned off\t4) will turn off\t（国士舘大）\n",
      "5. Much (      ) about American values.\t1) has written\t2) has been written\t3) is being wrote\t4) has been wrote\t（明治大）\n",
      "6. Due to the rapid increase in population, a lot of supermarkets (      ) in this area now.\t1) are developing\t2) are being built\t3) built\t4) developing\t（高崎経大）\n",
      "7. The singer is well-known (      ) young people.\t1) of\t2) to\t3) in\t4) on\t（浜松大）\n",
      "8. Nearly three-fourths of the Earth's surface (      ) with water.\t1) is combined\t2) is consisted\t3) is contained\t4) is covered\t（南山大）\n",
      "9. Everybody coming to the convention was caught (      ) a sudden shower.\t1) from\t2) in\t3) with\t4) on\t（獨協大）\n",
      "10. George must be made (      ) reality.\t1) face\t2) facing\t3) to be faced\t4) to face\t（日本女大）\n",
      "11. The thief was seen (      ) away from the building.\t1) run\t2) runs\t3) to run\t4) ran\t（東京電機大）（2）以下の英文の下線部には誤っている箇所がそれぞれ一つずつある。その番号を指摘した上で，正しい形に直しなさい。\n",
      "1. While traveling with my uncle through one of our national parks, I was frighten by a bear.\t（成蹊大）\n",
      "2. Coffee often drank from a mug rather than a cup, because a mug holds more.\t（清泉女大）（3）次の日本文の意味になるように，（　）内の語または語句を並べかえて英文を完成させなさい。\n",
      "1. このレポートは，今月の末までに仕上げられねばならない。( be / by / end / finished / must / report / the / this ) of this month.\t（金沢工大）\n",
      "2. 家族のだれもが， 私たちが先月受け取った手紙の返事を書かずにほっといたことに気がつかなかった。No one in my family realized that the letter ( received / month / unanswered / last / had / we / been / left ).\t（成城大）\n",
      "3. 彼は生涯，「ありがとう」と言うのを聞かれたことがなかった。He ( heard / never / say / \"thank you\" / to / was ) in his whole life.\t（日本大）\n",
      "5. 助動詞空所に入れるのに最も適切な語句を，下の1) 〜4) から一つずつ選びなさい。\n",
      "【例題33】Tom looks very young.  He (    ) be over sixty.\t1) cannot\t2) will\t3) must\t4) may\n",
      "【例題34】If it rains tomorrow, we (    ) put off our baseball game.\t1) will have to\t2) will must\t3) must will\t4) have will to\n",
      "【例題35】Since he is talking about a serious problem, you (    ) stop chatting.\t1) may\t2) can\t3) will\t4) ought to\n",
      "【例題36】Lisa told me she would rather not (    ) home.\t1) stay\t2) to stay\t3) staying\t4) for staying\n",
      "【例題37】You had better (    ) late at night.\t1) no going out\t2) not going out\t3) not go out\t4) no to go out\n",
      "【例題38】My mother (    ) tennis when she was young.\t1) used to play\t2) used to playing\t3) was used to play\t4) was used playing\n",
      "【例題39】He wrote a letter to Jane, but she (    ) not read it.\t1) might\t2) must\t3) should\t4) would\n",
      "【例題40】Mike hasn't arrived yet.  He (    ) the train.\t1) must miss\t2) must be missed\t3) must have missed\t4) must have been missed\n",
      "【例題41】Bob (    ) Mary that he loved her at that time.\t1) ought have told\t2) ought tell\t3) should be told\t4) should have told\n",
      "【例題42】They recommended that I (    ) become captain of the team.\t1) may\t2) can\t3) should\t4) have\n",
      "【例題43】You (    ) be too careful when driving in the snow.\t1) cannot\t2) can\t3) may\t4) mustn't演習問題（1）空所に入れるのに最も適切な語句を，下の1) 〜4) から一つずつ選びなさい。\n",
      "1. It (      ) the same person -- the handwriting on both papers is identical.\t1) must be\t2) can't be\t3) shall be\t4) is going to be\t（城西大）\n",
      "2. Having an unbalanced diet (      ) cause health problems.\t1) is a\t2) becomes to\t3) can\t4) will be\t（同志社女大）\n",
      "3. There (      ) be enough room for everybody on the bus.  Let's wait and see; if it is not very crowded, all of us can get on.\t1) must not\t2) may not\t3) need not\t4) cannot\t（京都外語大）\n",
      "4. There is plenty of time for you to make up your mind.  You (      ) decide now.\t1) couldn't\t2) should\t3) needn't\t4) had better\t（東海大）\n",
      "5. You are too kind!  You (      ) me a present.\t1) didn't have to buy\t2) hadn't to buy\t3) mightn't have bought\t4) mustn't have bought\t（学習院大）\n",
      "6. You have (      ) to keep silent the whole time.\t1) never\t2) only\t3) nothing\t4) much\t（白?大女短大部）\n",
      "7. As soon as the earthquake started, the teacher told us that we (      ) the building.\t1) shall leave\t2) will leave\t3) have left\t4) should leave\t（摂南大）\n",
      "8. I'd rather (      ) out with you some other time; I have to study for a test tonight.\t1) go\t2) going\t3) gone\t4) to go\t（南山大）\n",
      "9. You (      ) walk alone in this neighborhood after dark.\t1) don't had better\t2) don't have better\t3) had better not\t4) had not better\t（日本女大）\n",
      "10. When I was a child, I (      ) often walk around here.\t1) should\t2) may\t3) would\t4) will\t（鹿児島大）\n",
      "11. I (      ) work in Tokyo.  Now I work in Nagoya.\t1) didn't\t2) never\t3) used to\t4) was to\t（中部大）\n",
      "12. She (      ) not go to the dentist, even though she felt a sharp pain.\t1) would\t2) might\t3) must\t4) should\t（学習院大）\n",
      "13. The English of this composition is too good.  Mariko cannot (      ) it herself.\t1) have written\t2) have to write\t3) have been written\t4) be written\t（京都外語大）\n",
      "14. Kate lost her purse yesterday.  She (      ) it on the train.\t1) must drop\t2) must have dropped\t3) must be dropping\t4) must have been dropping\t（上智大）\n",
      "15. I can't find my key.  I (      ) it at the restaurant.\t1) may be lost\t2) may have been lost\t3) may have lost\t4) may lose\t（東京成徳短大）\n",
      "16. You (      ) your homework and handed it in.  Now, it's too late.\t1) didn't do\t2) should do\t3) should have done\t4) have done\t（玉川大）\n",
      "17. We had a great time at the party last night.  You (      ) come.\t1) had to\t2) must have\t3) might have\t4) ought to have\t（上智大）\n",
      "18. John requests that his daughter (      ) go to see her teacher by herself.\t1) can\t2) should\t3) would\t4) may\t（高崎経大）\n",
      "19. She couldn't (      ) laughing at his awful clothes.\t1) agree\t2) object\t3) but\t4) help\t（拓殖大）\n",
      "20. You (      ) too careful in choosing your life's goals.\t1) shouldn't be\t2) needn't be\t3) can't be\t4) mustn't be\t（日本歯大）\n",
      "21. There's no public transportation, so we may (      ) walk to that place.\t1) as well\t2) well to\t3) well as to\t4) as well as\t（関西学院大）（2）次の(a) (b)の英文がほぼ同じ意味になるように，空所に適切な語を入れなさい。\n",
      "1. (a) I am sure he rode the bicycle.(b) He (                ) have (                ) the bicycle.\t（小樽商大）\n",
      "2. (a) She has good reason to be angry.(b) She may (                ) be angry.\t（山形県立米沢女短大）\n",
      "3. (a) It is a pity that you didn't come to the special lecture yesterday.(b) You (                )  (                 ) come to the special lecture yesterday.\t（小樽商大）（3）次の日本文の意味になるように，（　）内の語または語句を並べかえて英文を完成させなさい。\n",
      "1. お父さんが戻るまでは外出しないほうがいいよ。We'd ( not / until / better / comes / go out / Father ) back.\t（京都学園大）\n",
      "2. この世の中ではどんなに注意しても注意し過ぎることはないということを心にとめておきなさい。You should keep in mind that ( too / in / careful / cannot / you / be ) this world.\t（立命館大）\n",
      "3. 左利きの人は，以前は無理やり右手で書くよう強制されたものだった。Left-handed ( be / forced / people / right hands / their / to / to write / used / with ).\t（立命館大）\n",
      "4. この問題に費やした時間を後悔せざるを得ない。I ( on / but / the time / cannot / wasted / regret ) this issue.\t（愛知工大）\n",
      "6. 仮定法空所に入れるのに最も適切な語句を，下の1) 〜4) から一つずつ選びなさい。\n",
      "【例題44】If he knew the news, he (    ) us.\t1) was calling\t2) would call\t3) had called\t4) calls\n",
      "【例題45】A: I didn't see Mike.B: If you had come a little earlier, you (    ) him.\t1) could see\t2) could have seen\t3) can see\t4) can have seen\n",
      "【例題46】If I (    ) the work yesterday, I would be free now.\t1) had finished\t2)  finish\t3)  finished\t4)  have finished\n",
      "【例題47】If the river (    ) run dry, the water supply will be cut off.\t1) should\t2) could\t3) might\t4) would\n",
      "【例題48】If (    ) not for the building, we could see Mt. Fuji from our house.\t1) there were\t2) we were\t3) it were\t4) we had\n",
      "【例題49】(    ) for his advice, I couldn't have completed my college thesis.\t1) As\t2) But\t3) What\t4) With\n",
      "【例題50】I couldn't meet Beth at the appointed place.  I wish she (    ) a cellular phone with her.\t1) have\t2) has\t3) have had\t4) had had\n",
      "【例題51】My father treats me as if I (    ) a little child.\t1) were\t2) should be\t3) have been\t4) will be\n",
      "【例題52】I think it's high time I (    ) alone.\t1) live\t2) lived\t3) have lived\t4) had lived\n",
      "【例題53】(    ) enough money, I would have bought the CD.\t1) I had had\t2) Had I\t3) Have I had\t4) Had I had\n",
      "【例題54】I went to the hall by taxi; (    ) I wouldn't have been in time for the concert.\t1) if\t2) unless\t3) otherwise\t4) if not\n",
      "【例題55】(    ) a little more consideration, Bill wouldn't have done such a silly thing.\t1) With\t2) Owing to\t3) But for\t4) For演習問題（1）空所に入れるのに最も適切な語句を，下の1) 〜4) から一つずつ選びなさい。\n",
      "1. A lot of people would be out of work if the factory (      ).\t1) is closing down\t2) closes down\t3) would close down\t4) closed down\t（東海大）\n",
      "2. If I had to choose between wealth and health, I (      ) the latter.\t1) will take\t2) will have taken\t3) would take\t4) would have taken\t（立命館大）\n",
      "3. If you (      ) me with the assignment, I could not have finished so quickly.\t1) did not help\t2) have not helped\t3) had not helped\t4) would not have helped\t（東京理大）\n",
      "4. The baseball game (      ) at 3:30 if it hadn't started raining.\t1) would have begun\t2) had to begin3) would begin\t4) had begun\t（北海学園大）\n",
      "5. If she (      ) there yesterday, she would not be here now.\t1) did not leave\t2) had not left\t3) has not left\t4) would not leave\t（東京理大）\n",
      "6. If I had taken your advice at that time, I (      ) miserable now.\t1) am not\t2) have not been\t3) must not be\t4) would not be\t（立命館大）\n",
      "7. If you (      ) fail, she would be very sad.\t1) could\t2) might\t3) should\t4) would\t（京都産大）\n",
      "8. If it (      ) to rain, we would have to cancel the match tomorrow.\t1) is\t2) were\t3) has\t4) had\t（学習院大）\n",
      "9. I wish I (      ) so much last night.  Now I feel terrible.\t1) won't drink\t2) wouldn't drink\t3) hasn't drunk\t4) hadn't drunk\t（杏林大）\n",
      "10. Today some people talk about a global language (      ) it were a magic cure for all the world's problems.\t1) as if\t2) even if\t3) if not\t4) even though\t（神奈川大）\n",
      "11. (      ) the greenhouse effect, the climate of the earth would be much colder.\t1) Without\t2) Against\t3) At\t4) To\t（京都学園大）\n",
      "12. It's about time (      ) some work for your next examination.\t1) you are doing\t2) you did\t3) you have done\t4) you will do\t（関西学院大）\n",
      "13. I would have taken the man, (      ) I not known what he was, for a country farmer.\t1) had\t2) were \t3) if\t4) unless\t（成蹊大）\n",
      "14. (      ) it not been for your cooperation, we would not have reached our destination.\t1) Were\t2) Had \t3) If\t4) When\t（中央大）\n",
      "15. The new medicine saved him from the illness; (      ) his condition might have been desperate.\t1) then\t2) otherwise \t3) therefore\t4) yet\t（北里大）\n",
      "16. (      ) a little more effort, he would have been a member of the team.\t1) For\t2) But for \t3) Owing to\t4) With\t（愛知工大）（2）次の(a) (b)の英文がほぼ同じ意味になるように，空所に適切な語を入れなさい。\n",
      "1. (a) I could not go on a picnic because I had a bad cold.(b) If I had not had a bad cold, I could (                ) (                ) on a picnic.\t（小樽商大）\n",
      "2. (a) If it had not rained, we would have had a good time.(b) (                ) (                ) the rain, we would have had a good time.\t（鶴見大）\n",
      "3. (a) It is a pity that you can't join us.(b) I (                ) you could join us.\t（学習院大）\n",
      "4. (a) Her help made it possible for me to do it.(b) I could not have done it (                ) her help.\t（明治大）（3）次の日本文の意味になるように，（　）内の語または語句を並べかえて英文を完成させなさい。\n",
      "1. 医者をもっと早く呼びにやっていたら子どもは死ななかっただろう。( for / the / if / doctor / been / had / sent ) sooner, the child would not have died.\t（立命館大）\n",
      "2. 私の携帯電話が，東京と同じようにニューヨークでも使えると助かるのだが。It ( could / be / easier / use / would / if / I ) my cellular phone in New York as well as\tin Tokyo.\t（立命館大）\n",
      "3. まるで夢を見ているような感じでした。I ( in / I / if / as / were / felt ) a dream.\t（中京大）\n",
      "4. 昆虫を食べる生き物の保護がなければ，昆虫は我々の作物をすべて食い尽くしてしまうだろう。Insects would devour all our crops ( from / we get / were / for / it / the protection / not / if / insect-eating animals ).\t（関西外語大）\n",
      "5. 賢い人だったら，彼女の気に障るような行動はしなかったでしょうに。（１語不要）( acted / if / of / would / wisdom / have / a man / not ) in such a way as to offend her.\t（千葉工大）\n",
      "7. 不定詞空所に入れるのに最も適切な語句を，下の1) 〜4) から一つずつ選びなさい。\n",
      "【例題56】It is natural for parents (    ) their children.\t1) loved\t2) love\t3) to loving\t4) to love\n",
      "【例題57】It was careless (    ) you to lose your wallet.\t1) that\t2) of\t3) by\t4) with\n",
      "【例題58】He found (    ) such a rumor.\t1) impossible to believe\t2) it impossible for believing\t3) it impossible to believe\t4) impossible believing\n",
      "【例題59】Thank you for this present.  I can't think of (    ).\t1) what saying\t2) to say what\t3) what to say\t4) saying what\n",
      "【例題60】The first person (    ) has to unlock the door.\t1) who come\t2) for coming\t3) to be come\t4) to come\n",
      "【例題61】I woke up one morning (    ) that my lost cat had returned.\t1) found\t2) in finding\t3) to be finding\t4) to find\n",
      "【例題62】He told his son (    ) things unfinished.\t1) not leave\t2) not to leave\t3) to not leave\t4) to leave not\n",
      "【例題63】The volcano is thought to (    ) 500 years ago.\t1) erupt\t2) have erupted\t3) having erupted\t4) be erupting\n",
      "【例題64】A: Would you like to go to the sea?B: I'd (    ).\t1) love to think\t2) love to\t3) love that\t4) love them\n",
      "【例題65】In Japan, fifteen-year-olds aren't (    ) to marry.\t1) as old enough\t2) enough old\t3) enough old as\t4) old enough\n",
      "【例題66】Tom can speak French, (    ) English.\t1) not mentioning\t2) not to talk\t3) need to say\t4) to say nothing of演習問題（1）空所に入れるのに最も適切な語句を，下の1) 〜4) から一つずつ選びなさい。\n",
      "1. It's really kind (      ) you to let us use your pool.\t1) of\t2) for\t3) in\t4) at\t（創価大）\n",
      "2. (      ) to keep the money would be desirable.\t1) Him\t2) With him\t3) For him\t4) He\t（関西外語大）\n",
      "3. You'll have to help her because she doesn't know (      ) it.\t1) how to do\t2) that doing\t3) doing\t4) what done\t（愛知大）\n",
      "4. John F. Kennedy was the first Catholic (      ) elected President of the United States.\t1) having been\t2) who\t3) he was\t4) to be\t（清泉女大）\n",
      "5. I was surprised and very much relieved (      ) someone who spoke Japanese.\t1) to finding\t2) find\t3) found\t4) to find\t（明治学院大）\n",
      "6. I woke up this morning (      ) find the whole place covered with snow.\t1) and\t2) but\t3) in order to\t4) to\t（広島修道大）\n",
      "7. Through this program we hope to persuade school children (      ) smoking or drugs.\t1) not to try\t2) to not try\t3) try not to\t4) try to not\t（関東学院大）\n",
      "8. I can't sell them to you even if my boss tells (      ).\t1) that\t2) to me\t3) me to\t4) me to sell it\t（明治学院大）\n",
      "9. High school students, in general, are not (      ) to vote in elections.\t1) as old enough\t2) enough old\t3) enough old as\t4) old enough\t（東北学院大）\n",
      "10. Although King Louis was a great ruler, he was a small man. (      ) \"grow\" taller, the king wore special boots with high heels.\t1) According to\t2) As to\t3) Thanks to\t4) In order to\t（大阪経大）\n",
      "11. He found that the bag was too heavy (      ).\t1) that he couldn't lift it\t2) for his lifting\t3) for him to lift\t4) that he couldn't lift\t（松山大）\n",
      "12. If you go to France, you can enjoy the art, the fashion, and the architecture, (      ) the excellent food.\t1) nothing but\t2) by far\t3) not to mention\t4) such as\t（北海学園大）\n",
      "13.  She speaks French, to say (      ) of English.\t1) anything\t2) something\t3) everything\t4) nothing\t（青山学院大）\n",
      "14. Michael has asked me to his party this evening, but, (      ), I'd rather not go.\t1) to make matters worse\t2) to say nothing of it\t3) to add fuel to the fire\t4) to tell you the truth\t（青山学院大）（2）次の日本文の意味になるように，空所に適切な語を入れなさい。\n",
      "1. 喫茶店に行ったのだが，閉まっていた。I went down to the coffee shop, (                ) to find it closed.\t（鹿児島大）\n",
      "2. 私たちは子どもたちが庭で遊べるように田舎に引っ越しました。We moved to the countryside so that our children would have a garden to (                )(                ).\t（西南学院大）（3）次の(a) (b)の英文がほぼ同じ意味になるように，空所に適切な語を入れなさい。\n",
      "1. (a) It is believed that the robbers escaped via Heathrow Airport.(b) The robbers are believed (                ) (                ) (                ) via Heathrow Airport.\t（大谷女大）\n",
      "2. (a) He has no friends with whom he talks.(b) He has no friends to (                ) (                ).\t（名古屋女大）\n",
      "3. (a) She was very kind.  She pointed out my mistake.(b) She was kind (                ) (                ) point out my mistake.\t（大谷女大）\n",
      "4. (a) His pride would not allow him to accept any reward.(b) He was (                ) proud (                ) accept any reward.\t（北海学園大）（4）次の日本文の意味になるように，（　）内の語または語句を並べかえて英文を完成させなさい。\n",
      "1. 当地では，はじめて出会った時，名刺を交換するのがふつうです。Here on first meeting, it ( business cards / for / is / people / to / common / exchange ). \t（立命館大）\n",
      "2. ニューヨーク市内では騒音のため夜はよく眠れない。The noise in New York City ( difficult / it / makes / sleep / to ) at night.\t（大阪電通大）\n",
      "3. 私が言ったようにしたかどうか，ジェインに尋ねた。I asked Jane if she had done ( told / as / to / I / her / had ).\t（沖縄国際大）\n",
      "4. 時勢に遅れないようにベティはいつも何か本を読んでいる。Betty is always reading some book or ( so / behind / other / to be / as / not ) the times.\t（神戸学院大）\n",
      "5. 百歳まで生きる人は何人かいる。（１語不要 ）( live / be / people / to / few / until / a ) a hundred years old.\t（愛知工大）\n",
      "8. 動名詞空所に入れるのに最も適切な語句を，下の1) 〜4) から一つずつ選びなさい。\n",
      "【例題67】Mary insists on (    ) abroad next year.\t1) studied\t2) studying\t3) to study\t4) studies\n",
      "【例題68】My mother insisted on (    ) to the doctor.\t1) my going\t2) me went\t3) me to go\t4) I should go\n",
      "【例題69】Ken is sorry for (    ) a club when he was in high school.\t1) not joined\t2) not to join\t3) not join\t4) not having joined\n",
      "【例題70】I felt like (    ) a stage actor when I saw \"The Phantom of the Opera.\"\t1) to become\t2) becoming\t3) become\t4) for becoming\n",
      "【例題71】(    ) no knowing when we will be caught up in a disaster.\t1) We are\t2) We have\t3) There is\t4) It is\n",
      "【例題72】It's no use (    ) a lie to him.\t1) telling\t2) of telling\t3) tell\t4) in telling\n",
      "【例題73】The foreigner was used to (    ) Japanese food.\t1) eat\t2) eating\t3) have eaten\t4) being eaten\n",
      "【例題74】She is busy (    ) a sweater.\t1) to knit\t2) for the knitting\t3) knitting\t4) knit演習問題（1）空所に入れるのに最も適切な語句を，下の1) 〜4) から一つずつ選びなさい。\n",
      "1. She escaped by climbing over the wall without (      ).\t1) to be seen\t2) seeing\t3) to be seeing\t4) being seen\t（南山大）\n",
      "2. My parents insisted (      ) use of the opportunity of studying abroad.\t1) for my making\t2) on my making\t3) for me to make\t4) me to make\t（松山大）\n",
      "3. We talked about (      ) on our usual trip this summer.\t1) not to go\t2) not going\t3) not to going\t4) to not to go\t（玉川大）\n",
      "4. They are very proud of (      ) the first group of students to attend that college.\t1) for\t2) going\t3) having been\t4) to have been\t（明治学院大）\n",
      "5. It's no good (      ) time.\t1) waste\t2) wasting\t3) to wasting\t4) to be wasted\t（関西学院大）\n",
      "6. After Janet moved to Japan, it took her a long while to get used (      ) raw fish.\t1) to eating\t2) to eat\t3) eating\t4) for eating\t（玉川大）\n",
      "7. Listen, my dear.  You have to be aware that our daughter is not a baby any more.  Amy objects to (      ) like a small child.\t1) treat\t2) being treated\t3) be treated\t4) treating\t（松山大）\n",
      "8. When it (      ) swimming, nobody can swim like Mary.\t1) becomes\t2) comes to\t3) gets to\t4) makes to\t（青山学院大）\n",
      "9. It is not good to spend all of your time (      ) TV.\t1) to watch\t2) to watching\t3) watching\t4) watch\t（札幌大）\n",
      "10. We had a lot of difficulty (      ) his new house.\t1) to try arriving\t2) trying to find\t3) to try to find\t4) trying to arrive\t（青山学院大）\n",
      "11. Her assistant was busy (      ) the instruments away.\t1) to put\t2) to putting\t3) putting\t4) put\t（福島大）（2）以下の英文の下線部には誤っている箇所がそれぞれ一つずつある。その番号を指摘した上で，正しい形に直しなさい。\n",
      "1. The teacher criticized her for make the same mistake again and again.\t（立命館大）\n",
      "2. I am really looking forward to work for a bank in a large city.\t（関西学院大）\n",
      "3. I don't feel like to play tennis today.\t（高千穂商大）\n",
      "4. The idea of my watch to be wrong didn't occur to me.\t（和光大）（3）次の日本文の意味になるように，（　）内の語または語句を並べかえて英文を完成させなさい。\n",
      "1. 間違うのを恐れずに英語を話すようにしたらよい。I advise you to speak ( afraid / without / being / English / making / of ) mistakes.\t（中央大）\n",
      "2. もし彼が本当のことを知ったら，何が起こるかわからない。If he discovers the truth, ( happen / is / might / no / telling / there / what ).\t（成蹊大）\n",
      "3. 私と一緒にカナダ旅行はいかがですか。What ( do / a trip / you / with / say / me / taking / to ) to Canada?\t（東京家政大）\n",
      "9. 分詞空所に入れるのに最も適切な語句を，下の1) 〜4) から一つずつ選びなさい。\n",
      "【例題75】They say that the (    ) gold hasn't been found.\t1) buried\t2) burying\t3) bury\t4) to bury\n",
      "【例題76】A man (    ) dark sunglasses came up to us.\t1) wears\t2) wore\t3) wearing\t4) worn\n",
      "【例題77】The change (    ) our company's managers has affected everyone.\t1) bring about\t2) bringing about\t3) brought about\t4) brought about by\n",
      "【例題78】I saw her cat (    ) on the car.\t1) sleeps\t2) to sleep\t3) slept\t4) sleeping\n",
      "【例題79】When I was crossing the street, I heard my name (    ).\t1) call\t2) called\t3) calling\t4) to call\n",
      "【例題80】Can you make yourself (    ) in French?\t1) understand\t2) understanding\t3) of understanding\t4) understood\n",
      "【例題81】(    ), I went to the information center.\t1) Knowing not which bus to catch\t2) Not knowing which bus to catch\n",
      "3) Which bus to catch not knowing\t4) Which bus to catch knowing not\n",
      "【例題82】The bus (    ), we had to walk to the station.\t1) was broken down\t2) broke down\t3) being breaking down\t4) having broken down\n",
      "【例題83】(    ) from this place, the bridge looks very beautiful.\t1) Taken\t2) Seeing\t3) Observing\t4) Seen\n",
      "【例題84】The old man was fast asleep with his arms (    ).\t1) fold\t2) folding\t3) to fold\t4) folded\n",
      "【例題85】(    ) soccer, which team do you like best?\t1) Speak of\t2) Speaking of\t3) To speak of\t4) Spoken of演習問題（1）空所に入れるのに最も適切な語句を，下の1) 〜4) から一つずつ選びなさい。\n",
      "1. During the terrible storm at sea, the crew had to abandon (      ).\t1) the sinking ship\t2) the ship sunk\t3) the ship to sink\t4) the sunk ship\t（創価大）\n",
      "2. A lot of people (      ) in my hometown work in Tokyo.\t1) live\t2) life\t3) lived\t4) living\t（高崎経大）\n",
      "3. The money (      ) this way is given to the poor or sent to countries where people are dying of hunger.\t1) saved\t\t2) saving\t3) save\t4) had saved\t（広島工大）\n",
      "4. I am sorry I have kept you (      ) so long.\t1) wait\t2) waited\t3) waiting\t4) to wait\t（宮崎産経大）\n",
      "5. As I walked along the corridor, I heard the students (      ) loudly in the classroom.\t1) talking\t2) talked\t3) had talked\t4) to have talked\t（神奈川大）\n",
      "6. He is honest in all he does.  Have you ever heard him (      ) ill of by others?\t1) speak\t2) speaking\t3) spoken\t4) to speak\t（日本大）\n",
      "7. We often hear it (      ) that ours is an essentially tragic age.\t1) say\t2) to say\t3) said\t4) saying\t（東海大）\n",
      "8. The noise in the street was such that I couldn't make myself (      ).\t1) having heard\t2) to hear\t3) heard\t4) to have heard\t（中央大）\n",
      "9. (      ) that he had a talent for languages, he decided to train as an interpreter.\t1) Being realized\t2) Realize\t3) Realizing\t4) To realize\t（センター試験）\n",
      "10. (      ) to continue my studies, I decided to become a dress designer.\t1) Don't wish\t2) Not wishing\t3) Not wished\t4) Didn't wish\t（福島大）\n",
      "11. (      ) Sunday, the bank was closed.\t1) Being\t\t2) Being it\t3) It being\t4) It was\t（北海学園大）\n",
      "12. (      ) nothing more to discuss, he said goodbye and left me.\t1) There had\t2) Being\t3) Having there\t4) There being\t（立命館大）\n",
      "13. (      ) what their teacher said, the students were satisfied.\t1) Having understood\t2) Understood\t3) To understand\t4) Should understand\t（関西学院大）\n",
      "14. (      ) from here, Mt. Fuji is very beautiful.\t1) Seeing\t2) Seen\t3) To see\t4) In seeing\t（東海大）\n",
      "15. The package arrived with its wrapping paper (      ).\t1) tear\t2) tearing\t3) torn\t4) being torn\t（京都産大）\n",
      "16. Some people leave their cars with the engines (      ) when they go shopping for a few minutes.\t1) run\t2) running\t3) to run\t4) ran\t（名古屋学院大）\n",
      "17. Generally (      ), university lecturers are ignorant of the world.\t1) speak\t2) spoke\t3) speaking\t4) spoken\t（高岡法科大）\n",
      "18. (      ) the look of the sky, it's likely to rain.\t1) Judged from\t2) Seen from\t3) Judging from\t4) Thinking of\t（愛知学院大）（2）以下の英文の下線部には誤っている箇所がそれぞれ一つずつある。その番号を指摘した上で，正しい形に直しなさい。\n",
      "1. Though I did my best, I couldn't make myself understanding in English.\t（清泉女大）\n",
      "2. Comparing with other countries, Japan is a very expensive country to live in.\t（桃山学院大）\n",
      "3. I was walking over the bridge when I saw a UFO shaping like a cigar.\t（桃山学院大）\n",
      "4. Consider his age, Mr. Brown looks very young.\t（高千穂商大）\n",
      "5. Wind and rain continually beat against the surface of the earth, broken large rocks into smaller and smaller pieces.\t（東洋大）（3）次の日本文の意味になるように，（　）内の語または語句を並べかえて英文を完成させなさい。\n",
      "1. 素晴らしい蔵書を持っていることは，その所有者が書物によって豊かにされた心の持ち主だということの証明にはならない。Having ( by / that / prove / enriched / its owner / books / doesn't / has a mind / a fine library ).\t（関西外語大）\n",
      "2. 海外旅行に参加を希望する学生は自由に参加して下さい。Students ( are / in / travel abroad / participate / to / wishing ) free to do so.\t（龍谷大）\n",
      "3. このコンピュータ雑誌を読んでいるおかげでインターネットの発展がいつもよくわかる。This computer magazine ( the development / keeps / of / of the Internet / well-informed / me ).\t（流通科学大）\n",
      "10. 動詞を含むイディオム空所に入れるのに最も適切な語句を，下の1) 〜4) から一つずつ選びなさい。\n",
      "【例題86】We will have to think about how to (    ) air pollution.\t1) deal with\t2) treat at\t3) take off\t4) put on\n",
      "【例題87】If you are free, won't you (    ) in and have a cup of coffee?\t1) ask\t2) drop\t3) fall\t4) visit\n",
      "【例題88】The twins are so much alike that I can't tell one (    ) the other.\t1) from\t2) to\t3) with\t4) for\n",
      "【例題89】He didn't spend any money today to (    ) the money he had wasted yesterday.\t1) get rid of\t2) run short of\t3) keep up with\t4) make up for\n",
      "【例題90】The countries in Asia should (    ) part in the conference.\t1) let\t2) get\t3) put\t4) take演習問題（1）空所に入れるのに最も適切な語句を，下の1) 〜4) から一つずつ選びなさい。\n",
      "1. The official could not (      ) the complaint himself.\t1) call off\t2) deal with\t3) keep on\t4) put away\t（青山学院大）\n",
      "2. This group (      ) of five members.\t1) consists \t2) makes\t3) receives\t4) includes\t（大阪商大）\n",
      "3. The traffic accident resulted (      ) the death of many passengers.\t1) as\t2) on\t3) of\t4) in\t（宮崎産経大）\n",
      "4. When John saw the 'No Smoking' notice, he reluctantly put (      ) his cigarette.\t1) in\t2) off\t3) out\t4) up\t（慶應大）\n",
      "5. When his father died, Tom took (      ) the business.\t1) down\t2) out\t3) over\t4) at\t（早稲田大）\n",
      "6. I find it difficult to get up early in the morning, so I have to (      ) breakfast.\t1) do without\t2) get rid of\t3) put up with\t4) slow down\t（センター試験）\n",
      "7. Because of the long recession, the company will have to (      ) about five hundred employees.\t1) turn off\t2) call off\t3) lay off\t4) keep off\t（清泉女大）\n",
      "8. The party's victory in the election persuaded him to (      ) president again.\t1) run for\t2) refer to\t3) run to\t4) show up\t（西南学院大）\n",
      "9. These children are very polite; they must have been well brought (      ).\t1) about\t2) along\t3) down\t4) up\t（早稲田大）\n",
      "10. I don't believe that story.  I am sure you made it (      ).\t1) down\t2) off\t3) out\t4) up\t（早稲田大）\n",
      "11. Dan likes measuring angles.  He really (      ) after his father in his mathematical skill.\t1) looks\t2) brings\t3) takes\t4) sets\t（昭和女大）\n",
      "12. She came (      ) an interesting article about France in the paper.\t1) in\t2) across\t3) over\t4) down\t（法政大）\n",
      "13. It took John about two weeks to get (      ) his illness.\t1) along\t2) away\t3) over\t4) down\t（専修大）\n",
      "14. Bob is still in his early teens, but he has already decided to (      ) in economics at college.\t1) deal\t2) participate\t3) major\t4) result\t（北海学園大）\n",
      "15. The weather forecast says the rainy season will (      ) early this year.\t1) take on\t2) set in\t3) keep up\t3) go down\t（大阪学院大）\n",
      "16. I will be able to see you tomorrow unless something unexpected turns (      ).\t1) down\t2) on\t3) over\t4) up\t（青山学院大）\n",
      "17. World War II broke (      ) in 1939. \t1) down\t2) in\t3) off\t4) out\t（早稲田大）\n",
      "18. Don't keep breaking (      ) with your stupid questions.\t1) about\t2) in\t3) on\t4) off\t（佛教大）\n",
      "19. It is hard to (      ) good from evil.\t1) tell\t2) make\t3) mention\t4) hear\t（駒澤大）\n",
      "20. It is sometimes difficult to distinguish the Swedish language (      ) Danish.\t1) by\t2) for\t3) from\t4) on\t（中央大）\n",
      "21. Peter Abelard, a French philosopher, is regarded (      ) the founder of the University of Paris.\t1) for\t2) with\t3) as\t4) upon\t（中部大）\n",
      "22. The luxury ship \"Titanic\" didn't (      ) icebergs in the ocean.\t1) look upon\t2) look out for\t3) look after\t4) look forward\t（明海大）\n",
      "23. If I can get (      ) with my exams, I'll take a long vacation.\t1) under\t2) through\t3) behind\t4) beyond\t（玉川大）\n",
      "24. He is very friendly.  He can get (      ) anybody.\t1) through with\t2) with together\t3) out of\t4) along with\t（法政大）\n",
      "25. Our public leaders are imaginative and come up (      ) new ideas.\t1) away\t2) on\t3) in\t4) with\t（上智大）\n",
      "26. We've run (      ) of milk.  Could you go and buy some at the supermarket?\t1) down\t2) out\t3) over\t4) up\t（学習院大）\n",
      "27. I want them to do (      ) with this horrible custom.\t1) away\t2) along\t3) up\t4) on\t（中央大）\n",
      "28. Her job is to take (      ) of the sick people.\t1) attention\t2) care\t3) rest\t4) watch\t（高岡法科大）（2）次の各文の下線部に最も近い意味を持つ語句を，下の1) 〜4) から一つずつ選びなさい。\n",
      "1. Please pick me up at 7:00 p.m.\t1) lift me off the ground\t2) call me\t3) ignore me\t4) collect me\t（東海大）\n",
      "2. There is no accounting for tastes.\t1) discussing\t2) giving up\t3) imposing\t4) explaining\t（関西外語大）\n",
      "3. What do the letters in YMCA stand for?\t1) maintain\t2) represent\t3) write\t4) require\t（日本女大）\n",
      "4. You can't count on them when you really need them.\t1) depend on\t2) regain on\t3) interest in\t4) regard as\t（明海大）\n",
      "5. We were all taken in by his good manners and polished way of talking.\t1) deceived\t2) encouraged\t3) pleased\t4) impressed\t（成蹊大）\n",
      "6. We were forced to postpone the picnic.\t1) call off\t2) do without\t3) put off\t4) see about\t（上智大）\n",
      "7. How did you come by this valuable painting?\t1) examine\t2) obtain\t3) require\t4) sell\t（国士舘大）\n",
      "8. Could you make out what he was saying?\t1) fill\t2) turn out\t3) create\t4) understand\t（成蹊大）\n",
      "9. The university has undergone several major changes in the last ten years.\t1) put off\t2) made for\t3) gone through\t4) come true\t（阪南大）\n",
      "10. Your term papers must be handed in by Monday.\t1) completed\t2) submitted\t3) checked\t4) marked\t（立正大）\n",
      "11. Each company should look into ways to increase productivity.\t1) show off\t2) turn down\t3) leave out\t4) investigate\t（成蹊大）\n",
      "12. My doctor has told me to give up eating cakes and sweets.\t1) surrender\t2) continue\t3) love\t4) stop\t（東海大）\n",
      "13. They will call off their strike because they have accepted the management's offer.\t1) cancel\t2) ignore\t3) retake\t4) retard\t（中部大）\n",
      "14. This work calls for practice and patience.\t1) allows\t2) includes\t3) invites\t4) requires\t（日本大）\n",
      "15. She likes dropping in on friends without warning.\t1) attacking friends\t2) visiting friends\t3) talking to friends\t4) running to friends\t（駒澤大）\n",
      "16. Did the magician show up at the party?\t1) perform\t2) dance\t3) speak\t4) appear\t（桃山学院大）\n",
      "17. Completely surrounded by our troops, the enemy finally gave in.\t1) escaped\t2) surrendered\t3) charged\t4) fled\t（成蹊大）\n",
      "18. They have to make up for their lack of experience by hard work.\t1) look for\t2) compensate for\t3) account for\t4) go for\t（中央大）\n",
      "19. I could not put up with his long, meaningless speech.\t1) understand\t2) support\t3) sit\t4) stand\t（明海大）\n",
      "20. Schoolboys usually look up to great athletes.\t1) respect\t2) despise\t3) imitate\t4) dislike\t（青山学院大）\n",
      "21. He always looks down on me.\t1) calls me on\t2) supports me\t3) despises me\t4) appears taller than I\t（中央大）\n",
      "22. I think it's time we got rid of all the old furniture.\t1) acquired\t2) dusted off\t3) recognized the value of\t4) threw away\t（立命館大）\n",
      "23. It is difficult for me to keep up with recent developments.\t1) keep a safe distance from\t2) make any comment on\t3) remain out of touch with\t4) stay familiar with\t（日本女大）\n",
      "24. John did not take part in social activity because he felt uncomfortable with people.\t1) engage in\t2) draw from\t3) depart\t4) involve\t（日本大）\n",
      "25. The director took advantage of his position.\t1) did bad thing to\t2) made use of\t3) was good for\t4) worked for\t（奈良産大）\n",
      "26. Tom always makes fun of John because of his accent.\t1) entertains\t2)  ignores\t3) respects\t4) teases\t（関西学院大）\n",
      "27. Don't mind me.\t1) Don't ignore me.\t2) Don't bother me.\t3) Pay no attention to me.\t4) Don't leave me alone.\t（日本大）（3）次の日本文の意味になるように，（　）内の語を並べかえて英文を完成させなさい。\n",
      "1. 世間一般の人々は，勤労よりも安逸を好むものである。（１語不要）( to / than / prefer / people / idleness / ordinary / work ).\t（東海大）\n",
      "2. ジェーンにはいくら感謝してもし足りない。新しい仕事で大失敗をしたときにかばってくれたのだから。I don't know how to thank Jane.  She ( for / I / made / me / stood / up / when ) that big mistake on my new job.\t（高崎経大）\n",
      "3. かげで人の悪口を言うな。（１語不要）( tell / of / speak / others / behind / ill / don't ) their back.\t（流通科学大）\n",
      "4. 私の友人は，よくお姉さんと間違えられます。( for / friend / her / is / my / often / sister / taken ).\t（梅花女大）\n",
      "5. 学校では試験が大きな役割を果たしているようだ。( to / large / a / seem / in / part / examinations / play ) schools.\t（関西外語大）\n",
      "6. シェークスピアは，イギリス最大の詩人の一人と考えられている。（１語不要）Shakespeare ( on / regarded / is / one / looked / as ) of the greatest poets England has ever produced.\t（千葉工大）\n"
     ]
    }
   ],
   "source": [
    "for p in new_doc.paragraphs:\n",
    "    print(p.text)"
   ]
  },
  {
   "cell_type": "code",
   "execution_count": 46,
   "metadata": {
    "collapsed": true
   },
   "outputs": [],
   "source": [
    "new_doc.save(\"new_doc.docx\")"
   ]
  },
  {
   "cell_type": "code",
   "execution_count": null,
   "metadata": {
    "collapsed": true
   },
   "outputs": [],
   "source": []
  },
  {
   "cell_type": "code",
   "execution_count": 16,
   "metadata": {},
   "outputs": [
    {
     "data": {
      "text/plain": [
       "False"
      ]
     },
     "execution_count": 16,
     "metadata": {},
     "output_type": "execute_result"
    }
   ],
   "source": [
    "check_many_letters(\"Hello\", ['e', 'z', 'l'])"
   ]
  },
  {
   "cell_type": "code",
   "execution_count": 210,
   "metadata": {},
   "outputs": [
    {
     "data": {
      "text/plain": [
       "<_sre.SRE_Match object; span=(0, 1), match='1'>"
      ]
     },
     "execution_count": 210,
     "metadata": {},
     "output_type": "execute_result"
    }
   ],
   "source": [
    "pattern.match('1.動詞の語法（1）')\n",
    "pattern.search('1.動詞の語法（1）')"
   ]
  },
  {
   "cell_type": "code",
   "execution_count": 20,
   "metadata": {
    "collapsed": true
   },
   "outputs": [],
   "source": [
    "import re\n",
    "# pattern = re.compile(r'^([\\d]+|\\(|\\【)')\n",
    "pattern = re.compile(r'^([\\d]+|\\(\\d|\\【)')"
   ]
  },
  {
   "cell_type": "code",
   "execution_count": 11,
   "metadata": {},
   "outputs": [
    {
     "data": {
      "text/plain": [
       "539"
      ]
     },
     "execution_count": 11,
     "metadata": {},
     "output_type": "execute_result"
    }
   ],
   "source": []
  },
  {
   "cell_type": "code",
   "execution_count": 120,
   "metadata": {
    "collapsed": true
   },
   "outputs": [],
   "source": [
    "import pandas as pd"
   ]
  },
  {
   "cell_type": "code",
   "execution_count": 121,
   "metadata": {},
   "outputs": [],
   "source": [
    "df = pd.DataFrame(columns=[\"question\"])\n",
    "\n",
    "\n"
   ]
  },
  {
   "cell_type": "code",
   "execution_count": 122,
   "metadata": {},
   "outputs": [],
   "source": [
    "for p in new_doc.paragraphs:\n",
    "    df = df.append({'question': p.text}, ignore_index=True)\n",
    "df.set_index(\"question\", inplace=True)"
   ]
  },
  {
   "cell_type": "code",
   "execution_count": 123,
   "metadata": {},
   "outputs": [
    {
     "data": {
      "text/html": [
       "<div>\n",
       "<style>\n",
       "    .dataframe thead tr:only-child th {\n",
       "        text-align: right;\n",
       "    }\n",
       "\n",
       "    .dataframe thead th {\n",
       "        text-align: left;\n",
       "    }\n",
       "\n",
       "    .dataframe tbody tr th {\n",
       "        vertical-align: top;\n",
       "    }\n",
       "</style>\n",
       "<table border=\"1\" class=\"dataframe\">\n",
       "  <thead>\n",
       "    <tr style=\"text-align: right;\">\n",
       "      <th></th>\n",
       "    </tr>\n",
       "    <tr>\n",
       "      <th>question</th>\n",
       "    </tr>\n",
       "  </thead>\n",
       "  <tbody>\n",
       "    <tr>\n",
       "      <th>1. 動詞の語法（1）空所に入れるのに最も適切な語句を，下の1) 〜4) から一つずつ選びなさい。</th>\n",
       "    </tr>\n",
       "    <tr>\n",
       "      <th>【例題1】I've decided (    ) my secret to Emily.\\t1) tell\\t2) telling\\t3) told\\t4) to tell</th>\n",
       "    </tr>\n",
       "    <tr>\n",
       "      <th>【例題2】If you want to lose weight, you should stop (    ) so much.\\t\\t1) to eat\\t2) eating\\t3) to eating\\t4) for eating</th>\n",
       "    </tr>\n",
       "    <tr>\n",
       "      <th>【例題3】Please remember (    ) this letter on your way to school tomorrow.\\t1) mailing\\t2) mail\\t3) to mail\\t4) mailed</th>\n",
       "    </tr>\n",
       "    <tr>\n",
       "      <th>【例題4】My mother wants to have the wall (    ).\\t1) repainting\\t2) repaint\\t3) repainted\\t4) repaints</th>\n",
       "    </tr>\n",
       "    <tr>\n",
       "      <th>【例題5】My parents let me (    ) to a concert last night.\\t1) to go\\t2) go\\t3) going\\t4) went</th>\n",
       "    </tr>\n",
       "    <tr>\n",
       "      <th>【例題6】Our coach wants us (    ) soccer every day.\\t\\t1) to practice\\t2) to practicing\\t3) practice\\t4) for practicing</th>\n",
       "    </tr>\n",
       "    <tr>\n",
       "      <th>【例題7】The policeman ordered that I (    ) him my license.\\t1) showed\\t2) shows\\t3) show\\t4) to show演習問題（1）空所に入れるのに最も適切な語句を，下の1) 〜4) から一つずつ選びなさい。</th>\n",
       "    </tr>\n",
       "    <tr>\n",
       "      <th>1. I promised (      ) at Tokyo Station by eight.\\t1) to be\\t2) being\\t3) in being\\t4) of being\\t（獨協大）</th>\n",
       "    </tr>\n",
       "    <tr>\n",
       "      <th>2. Tony refused (      ) put up the tent.\\t1) to help\\t2) helping\\t3) have helped\\t4) help\\t（神奈川大）</th>\n",
       "    </tr>\n",
       "    <tr>\n",
       "      <th>3. Susan finished (      ) her English composition by 9 o'clock.\\t1) written\\t2) write\\t3) to write\\t4) writing\\t（愛知大）</th>\n",
       "    </tr>\n",
       "    <tr>\n",
       "      <th>4. I (      ) to return in December.\\t1) consider\\t2) suppose\\t3) expect\\t4) assume\\t（獨協大）</th>\n",
       "    </tr>\n",
       "    <tr>\n",
       "      <th>5. You don't have to avoid (      ) noise when you eat Japanese noodles.\\t1) to make\\t2) make\\t3) making\\t4) having made\\t（獨協大）</th>\n",
       "    </tr>\n",
       "    <tr>\n",
       "      <th>6. Kate (      ) to go to the concert with Tommy.\\t1) enjoyed\\t2) hesitated\\t3) gave up\\t4) denied\\t（北里大）</th>\n",
       "    </tr>\n",
       "    <tr>\n",
       "      <th>7. Almost everybody fails (      ) the driver's test on the first try.\\t1) passing\\t2) having passed\\t3) to pass\\t4) to have passed\\t（城西大）</th>\n",
       "    </tr>\n",
       "    <tr>\n",
       "      <th>8. Remember (      ) some orange juice on your way home.\\t1) for getting\\t2) get\\t3) getting to\\t4) to get\\t（南山大）</th>\n",
       "    </tr>\n",
       "    <tr>\n",
       "      <th>9. The doctor did not (      ) the old lady before, but he pretended that he knew her.\\t1) remember to meet\\t2) remember meeting\\t3) forget to meet\\t4) forget meeting\\t（武庫川女大）</th>\n",
       "    </tr>\n",
       "    <tr>\n",
       "      <th>10. This letter is important and it must reach him as soon as possible.  Please don't forget (      ) it first thing tomorrow morning.\\t1) mail\\t2) mailing\\t3) to mail\\t4) you mailed\\t（東京電機大）</th>\n",
       "    </tr>\n",
       "    <tr>\n",
       "      <th>11. People can get along well without knowing much about language, and only stop (      ) about it if they fail to understand each other.\\t1) thinking\\t2) to be thought\\t3) to have thought\\t4) to think\\t（京都外語大）</th>\n",
       "    </tr>\n",
       "    <tr>\n",
       "      <th>12. Beth's parents should (      ) harder because her grades are poor.\\t1) force her study\\t2) get her to study\\t3) having her study\\t4) tell her study\\t（東京経大）</th>\n",
       "    </tr>\n",
       "    <tr>\n",
       "      <th>13. How often do you need to get the machine (      ) to prevent problems?\\t1) checking\\t2) check\\t3) checked\\t4) to check\\t（名古屋工大）</th>\n",
       "    </tr>\n",
       "    <tr>\n",
       "      <th>14. Shall I have him (      ) you back later?\\t1) be calling\\t2) call\\t3) called\\t4) to call\\t（立命館大）</th>\n",
       "    </tr>\n",
       "    <tr>\n",
       "      <th>15. What made you (      ) here and keep working for the village?\\t1) stay\\t2) staying\\t3) to stay\\t4) to have stayed\\t（京都産大）</th>\n",
       "    </tr>\n",
       "    <tr>\n",
       "      <th>16. Since the hurricane was approaching, the school decided (      ).1) to let the students leave early\\t\\t2) to let the students to leave early\\t3) to let the students left early\\t4) to let the students to be left early\\t（学習院大）</th>\n",
       "    </tr>\n",
       "    <tr>\n",
       "      <th>17. They (      ) the president enter the room.\\t1) announced\\t2) said\\t3) saw\\t4) looked\\t（活水女大）</th>\n",
       "    </tr>\n",
       "    <tr>\n",
       "      <th>18. He felt a worm (      ) on his back.\\t1) crawl\\t2) crawled\\t3) crawls\\t4) to crawl\\t（中部大）</th>\n",
       "    </tr>\n",
       "    <tr>\n",
       "      <th>19. The boss asked us (      ) this document by 3:00 p.m.\\t1) revision\\t2) revising\\t3) to revise\\t4) will revise\\t（大阪商大）</th>\n",
       "    </tr>\n",
       "    <tr>\n",
       "      <th>20. The teacher encouraged us (      ) mathematics harder.\\t1) to studying\\t2) study\\t3) studying\\t4) to study\\t（桃山学院大）</th>\n",
       "    </tr>\n",
       "    <tr>\n",
       "      <th>21. Jack had a reservation but his flight was canceled because of the heavy rain, so he was (      ) to take a train.\\t1) forbidden\\t2) forced\\t3) opposed\\t4) rejected\\t（京都外語大）</th>\n",
       "    </tr>\n",
       "    <tr>\n",
       "      <th>22. We require (      ) a university degree for this post.\\t1) having\\t2) you having\\t3) to have\\t4) you to have\\t（立命館大）</th>\n",
       "    </tr>\n",
       "    <tr>\n",
       "      <th>...</th>\n",
       "    </tr>\n",
       "    <tr>\n",
       "      <th>4. You can't count on them when you really need them.\\t1) depend on\\t2) regain on\\t3) interest in\\t4) regard as\\t（明海大）</th>\n",
       "    </tr>\n",
       "    <tr>\n",
       "      <th>5. We were all taken in by his good manners and polished way of talking.\\t1) deceived\\t2) encouraged\\t3) pleased\\t4) impressed\\t（成蹊大）</th>\n",
       "    </tr>\n",
       "    <tr>\n",
       "      <th>6. We were forced to postpone the picnic.\\t1) call off\\t2) do without\\t3) put off\\t4) see about\\t（上智大）</th>\n",
       "    </tr>\n",
       "    <tr>\n",
       "      <th>7. How did you come by this valuable painting?\\t1) examine\\t2) obtain\\t3) require\\t4) sell\\t（国士舘大）</th>\n",
       "    </tr>\n",
       "    <tr>\n",
       "      <th>8. Could you make out what he was saying?\\t1) fill\\t2) turn out\\t3) create\\t4) understand\\t（成蹊大）</th>\n",
       "    </tr>\n",
       "    <tr>\n",
       "      <th>9. The university has undergone several major changes in the last ten years.\\t1) put off\\t2) made for\\t3) gone through\\t4) come true\\t（阪南大）</th>\n",
       "    </tr>\n",
       "    <tr>\n",
       "      <th>10. Your term papers must be handed in by Monday.\\t1) completed\\t2) submitted\\t3) checked\\t4) marked\\t（立正大）</th>\n",
       "    </tr>\n",
       "    <tr>\n",
       "      <th>11. Each company should look into ways to increase productivity.\\t1) show off\\t2) turn down\\t3) leave out\\t4) investigate\\t（成蹊大）</th>\n",
       "    </tr>\n",
       "    <tr>\n",
       "      <th>12. My doctor has told me to give up eating cakes and sweets.\\t1) surrender\\t2) continue\\t3) love\\t4) stop\\t（東海大）</th>\n",
       "    </tr>\n",
       "    <tr>\n",
       "      <th>13. They will call off their strike because they have accepted the management's offer.\\t1) cancel\\t2) ignore\\t3) retake\\t4) retard\\t（中部大）</th>\n",
       "    </tr>\n",
       "    <tr>\n",
       "      <th>14. This work calls for practice and patience.\\t1) allows\\t2) includes\\t3) invites\\t4) requires\\t（日本大）</th>\n",
       "    </tr>\n",
       "    <tr>\n",
       "      <th>15. She likes dropping in on friends without warning.\\t1) attacking friends\\t2) visiting friends\\t3) talking to friends\\t4) running to friends\\t（駒澤大）</th>\n",
       "    </tr>\n",
       "    <tr>\n",
       "      <th>16. Did the magician show up at the party?\\t1) perform\\t2) dance\\t3) speak\\t4) appear\\t（桃山学院大）</th>\n",
       "    </tr>\n",
       "    <tr>\n",
       "      <th>17. Completely surrounded by our troops, the enemy finally gave in.\\t1) escaped\\t2) surrendered\\t3) charged\\t4) fled\\t（成蹊大）</th>\n",
       "    </tr>\n",
       "    <tr>\n",
       "      <th>18. They have to make up for their lack of experience by hard work.\\t1) look for\\t2) compensate for\\t3) account for\\t4) go for\\t（中央大）</th>\n",
       "    </tr>\n",
       "    <tr>\n",
       "      <th>19. I could not put up with his long, meaningless speech.\\t1) understand\\t2) support\\t3) sit\\t4) stand\\t（明海大）</th>\n",
       "    </tr>\n",
       "    <tr>\n",
       "      <th>20. Schoolboys usually look up to great athletes.\\t1) respect\\t2) despise\\t3) imitate\\t4) dislike\\t（青山学院大）</th>\n",
       "    </tr>\n",
       "    <tr>\n",
       "      <th>21. He always looks down on me.\\t1) calls me on\\t2) supports me\\t3) despises me\\t4) appears taller than I\\t（中央大）</th>\n",
       "    </tr>\n",
       "    <tr>\n",
       "      <th>22. I think it's time we got rid of all the old furniture.\\t1) acquired\\t2) dusted off\\t3) recognized the value of\\t4) threw away\\t（立命館大）</th>\n",
       "    </tr>\n",
       "    <tr>\n",
       "      <th>23. It is difficult for me to keep up with recent developments.\\t1) keep a safe distance from\\t2) make any comment on\\t3) remain out of touch with\\t4) stay familiar with\\t（日本女大）</th>\n",
       "    </tr>\n",
       "    <tr>\n",
       "      <th>24. John did not take part in social activity because he felt uncomfortable with people.\\t1) engage in\\t2) draw from\\t3) depart\\t4) involve\\t（日本大）</th>\n",
       "    </tr>\n",
       "    <tr>\n",
       "      <th>25. The director took advantage of his position.\\t1) did bad thing to\\t2) made use of\\t3) was good for\\t4) worked for\\t（奈良産大）</th>\n",
       "    </tr>\n",
       "    <tr>\n",
       "      <th>26. Tom always makes fun of John because of his accent.\\t1) entertains\\t2)  ignores\\t3) respects\\t4) teases\\t（関西学院大）</th>\n",
       "    </tr>\n",
       "    <tr>\n",
       "      <th>27. Don't mind me.\\t1) Don't ignore me.\\t2) Don't bother me.\\t3) Pay no attention to me.\\t4) Don't leave me alone.\\t（日本大）（3）次の日本文の意味になるように，（　）内の語を並べかえて英文を完成させなさい。</th>\n",
       "    </tr>\n",
       "    <tr>\n",
       "      <th>1. 世間一般の人々は，勤労よりも安逸を好むものである。（１語不要）( to / than / prefer / people / idleness / ordinary / work ).\\t（東海大）</th>\n",
       "    </tr>\n",
       "    <tr>\n",
       "      <th>2. ジェーンにはいくら感謝してもし足りない。新しい仕事で大失敗をしたときにかばってくれたのだから。I don't know how to thank Jane.  She ( for / I / made / me / stood / up / when ) that big mistake on my new job.\\t（高崎経大）</th>\n",
       "    </tr>\n",
       "    <tr>\n",
       "      <th>3. かげで人の悪口を言うな。（１語不要）( tell / of / speak / others / behind / ill / don't ) their back.\\t（流通科学大）</th>\n",
       "    </tr>\n",
       "    <tr>\n",
       "      <th>4. 私の友人は，よくお姉さんと間違えられます。( for / friend / her / is / my / often / sister / taken ).\\t（梅花女大）</th>\n",
       "    </tr>\n",
       "    <tr>\n",
       "      <th>5. 学校では試験が大きな役割を果たしているようだ。( to / large / a / seem / in / part / examinations / play ) schools.\\t（関西外語大）</th>\n",
       "    </tr>\n",
       "    <tr>\n",
       "      <th>6. シェークスピアは，イギリス最大の詩人の一人と考えられている。（１語不要）Shakespeare ( on / regarded / is / one / looked / as ) of the greatest poets England has ever produced.\\t（千葉工大）</th>\n",
       "    </tr>\n",
       "  </tbody>\n",
       "</table>\n",
       "<p>404 rows × 0 columns</p>\n",
       "</div>"
      ],
      "text/plain": [
       "Empty DataFrame\n",
       "Columns: []\n",
       "Index: [1. 動詞の語法（1）空所に入れるのに最も適切な語句を，下の1) 〜4) から一つずつ選びなさい。, 【例題1】I've decided (    ) my secret to Emily.\t1) tell\t2) telling\t3) told\t4) to tell, 【例題2】If you want to lose weight, you should stop (    ) so much.\t\t1) to eat\t2) eating\t3) to eating\t4) for eating, 【例題3】Please remember (    ) this letter on your way to school tomorrow.\t1) mailing\t2) mail\t3) to mail\t4) mailed, 【例題4】My mother wants to have the wall (    ).\t1) repainting\t2) repaint\t3) repainted\t4) repaints, 【例題5】My parents let me (    ) to a concert last night.\t1) to go\t2) go\t3) going\t4) went, 【例題6】Our coach wants us (    ) soccer every day.\t\t1) to practice\t2) to practicing\t3) practice\t4) for practicing, 【例題7】The policeman ordered that I (    ) him my license.\t1) showed\t2) shows\t3) show\t4) to show演習問題（1）空所に入れるのに最も適切な語句を，下の1) 〜4) から一つずつ選びなさい。, 1. I promised (      ) at Tokyo Station by eight.\t1) to be\t2) being\t3) in being\t4) of being\t（獨協大）, 2. Tony refused (      ) put up the tent.\t1) to help\t2) helping\t3) have helped\t4) help\t（神奈川大）, 3. Susan finished (      ) her English composition by 9 o'clock.\t1) written\t2) write\t3) to write\t4) writing\t（愛知大）, 4. I (      ) to return in December.\t1) consider\t2) suppose\t3) expect\t4) assume\t（獨協大）, 5. You don't have to avoid (      ) noise when you eat Japanese noodles.\t1) to make\t2) make\t3) making\t4) having made\t（獨協大）, 6. Kate (      ) to go to the concert with Tommy.\t1) enjoyed\t2) hesitated\t3) gave up\t4) denied\t（北里大）, 7. Almost everybody fails (      ) the driver's test on the first try.\t1) passing\t2) having passed\t3) to pass\t4) to have passed\t（城西大）, 8. Remember (      ) some orange juice on your way home.\t1) for getting\t2) get\t3) getting to\t4) to get\t（南山大）, 9. The doctor did not (      ) the old lady before, but he pretended that he knew her.\t1) remember to meet\t2) remember meeting\t3) forget to meet\t4) forget meeting\t（武庫川女大）, 10. This letter is important and it must reach him as soon as possible.  Please don't forget (      ) it first thing tomorrow morning.\t1) mail\t2) mailing\t3) to mail\t4) you mailed\t（東京電機大）, 11. People can get along well without knowing much about language, and only stop (      ) about it if they fail to understand each other.\t1) thinking\t2) to be thought\t3) to have thought\t4) to think\t（京都外語大）, 12. Beth's parents should (      ) harder because her grades are poor.\t1) force her study\t2) get her to study\t3) having her study\t4) tell her study\t（東京経大）, 13. How often do you need to get the machine (      ) to prevent problems?\t1) checking\t2) check\t3) checked\t4) to check\t（名古屋工大）, 14. Shall I have him (      ) you back later?\t1) be calling\t2) call\t3) called\t4) to call\t（立命館大）, 15. What made you (      ) here and keep working for the village?\t1) stay\t2) staying\t3) to stay\t4) to have stayed\t（京都産大）, 16. Since the hurricane was approaching, the school decided (      ).1) to let the students leave early\t\t2) to let the students to leave early\t3) to let the students left early\t4) to let the students to be left early\t（学習院大）, 17. They (      ) the president enter the room.\t1) announced\t2) said\t3) saw\t4) looked\t（活水女大）, 18. He felt a worm (      ) on his back.\t1) crawl\t2) crawled\t3) crawls\t4) to crawl\t（中部大）, 19. The boss asked us (      ) this document by 3:00 p.m.\t1) revision\t2) revising\t3) to revise\t4) will revise\t（大阪商大）, 20. The teacher encouraged us (      ) mathematics harder.\t1) to studying\t2) study\t3) studying\t4) to study\t（桃山学院大）, 21. Jack had a reservation but his flight was canceled because of the heavy rain, so he was (      ) to take a train.\t1) forbidden\t2) forced\t3) opposed\t4) rejected\t（京都外語大）, 22. We require (      ) a university degree for this post.\t1) having\t2) you having\t3) to have\t4) you to have\t（立命館大）, 23. I suggest (      ) the invitation; I feel there is something strange about it.\t1) for you decline\t2) for you to decline\t3) you decline\t4) you to decline\t（千葉商大）, 24. The judge ordered that John (      ) away from her.\t1) stay\t2) staying\t3) stays\t\t4) will stay\t（日本女大）（2）次の英文の下線部には誤っている箇所がそれぞれ一つずつある。その番号を指摘した上で，正しい形に直しなさい。, 1. It is said that a lack of vitamin A may cause young children to developing certain diseases.\t（金沢工大）, 2. In the car from the airport, I enjoyed to talk with my host father and mother.  They spoke to me slowly, so I understood what they said.\t（慶應大）, 3. The students are not permitted leaving the school grounds during the school day without an official pass.  This pass is only issued after a written request or telephone call from the students' parent.\t（学習院大）, 4. Would you mind to smoke when the children are not at home?\t（立正大）（3）次の（　）内の語または語句を並べかえて英文を完成させなさい。, 1. I need ( have / my / possible / old / repaired / computer / to / as soon as ).\t（静岡県立大）, 2. ( the / him / problem / I / helped / solve ).\t（学習院大）, 3. Although the majority of doctors agree that smoking is extremely harmful to our health, it is very difficult to ( all / give / persuade / smokers / to / the / up ) habit.（立教大）（4）次の日本文の意味になるように，（　）内の語を並べかえて英文を完成させなさい。, 1. 弟は，海外の大学へ留学できる奨学金を手に入れた。My brother won ( go / which / a / him / enabled / to / scholarship ) to college abroad.\t（立命館大）, 2. なぜあなたは考えを変えたのですか。 ( you / change / to / caused / what / your ) mind?\t（九州国際大）, 3. 彼は誇り高いので，いかなる報酬も受け取ろうとしなかった。His pride ( would / him / any / not / to / accept / allow ) reward.\t（青山学院大）, 4. その医者は京子にたばこをやめるように忠告した。 ( the / Kyoko / to / doctor / stop / advised / smoking ).\t（獨協大）, 2. 動詞の語法（2）空所に入れるのに最も適切な語句を，下の1) 〜4) から一つずつ選びなさい。, 【例題8】I got wet in the rain on my way home, so I (    ) cold now.\t1) take\t2) get\t3) feel\t4) make, 【例題9】The students (    ) the future of Japan.\t1) discussed\t2) discussed about\t3) discussed of\t4) discussed with, 【例題10】The carpet was (    ) in the living room.\t1) lay\t2) lied\t3) lain\t4) laid, 【例題11】Some drugs can (    ) you harm.\t1) take\t2) do\t3) feel\t4) help, 【例題12】I asked him how to answer the question, but he didn't (    ).\t1) explain me it\t2) explain it me\t3) explain to me it\t4) explain it to me, 【例題13】He is absent today, so I'll (    ) him the story later.\t1) say\t2) tell\t3) speak\t4) talk, 【例題14】This picture (    ) me of my childhood.\t1) reminds\t2) remembers\t3) recalls\t4) memorizes, 【例題15】Nancy was (    ) of her new bag.\t1) robbed\t2) stolen\t3) taken\t4) made, 【例題16】Nothing (    ) her from becoming a singer.\t1) avoided\t2) ended\t3) made\t4) stopped演習問題（1）空所に入れるのに最も適切な語句を，下の1) 〜4) から一つずつ選びなさい。, 1. Don't climb up that ladder!  It doesn't look (      ).\t1) safe\t2) safely\t3) in safety\t4) safety\t（福岡大）, 2. When she tried to bake a cake, something went (      ) and it tasted terrible.\t1) on\t2) in\t3) wrong\t4) out\t（東京家政大）, 3. \"Will you (      ) me?\" is a common way to propose to a woman in English.\t1) marry\t2) get married\t3)  be married to\t4) marry with\t（関西学院大）, 4. Our class discussed (      ) arising from poverty.\t1) the global issues\t2) around the global issues\t3) on the global issues\t4) over the global issues\t（中央大）, 5. Many people say to me, \"You really (      ) your mother.\"\t1) are resembling\t2) resemble\t3) resemble like\t4) resemble to\t（大阪電通大）, 6. The storm was (      ) our town.\t1) approaching\t2) coming\t3) arriving\t4) getting\t（東亜大）, 7. You'll have to apologize to your father (      ) breaking that glass.\t1) with\t2) in\t3) by\t4) for\t（桜美林大）, 8. A: When will it be convenient to come here?\tB: Any time will (      ).\t1) good\t2) be well\t3) be\t4) do\t（流通経済大）, 9. Because of the noise, Tom had to (      ) his voice to be heard.\t1) rise\t2) raise\t3) heighten\t4) stand\t（芝浦工大）, 10. After some hesitation, he (      ) the book on the desk.\t1) laid\t2) lied\t3) lay\t4) lain\t（東亜大）, 11. Very tired, I felt like (      ) on the bed.\t1) being lain\t2) laying\t3) lying\t4) lying myself\t（実践女大）, 12. Did the typhoon (      ) any harm to your house?\t1) do\t2) give\t3) put\t4) set\t（千葉商大）, 13. Could you do (      ) ?\t1) me a favor\t2) for my being a favor\t3) a favor to me\t4) favoring of me\t（関西学院大）, 14. If I buy a second-hand computer, it will (      ) me hundreds of dollars.\t1) add\t2) help\t3) keep\t4) save\t（センター試験）, 15. This computer cost (      ) my whole salary last month.\t1) me\t2) to me\t3) of me\t4) for me\t（京都産大）, 16. The landlord of the apartment (      ) him about 90,000 yen per month in rent.\t1) costs\t2) charges\t3) takes\t4) pays\t（東京家政大）, 17. I don't have a pen with me.  Can you (      ) me one, please?\t1) lend\t2) borrow\t3)  rent\t4) hire\t（高崎経大）, 18. We (      ) the problem till late at night.\t1) talked with\t2) talked\t3) talked about\t4) talked to\t（桃山学院大）, 19. I don't know why they told me (      ) on the corner.  The bus stop was in the middle of the block.\t1) having to wait\t2) to be waited\t3) to have waited\t4) to wait\t（センター試験）, 20. What did he (      ) to you?  Anything interesting?\t1) ask\t2) say\t3) talk\t4) tell\t（学習院大）, 21. The seven o'clock news (      ) it's going to rain.\t1) say\t2) says\t3) was said\t4) are saying\t（獨協大）, 22. Can you (      ) me which one is his?\t1) talk\t2) speak\t3) say\t4) tell\t（高千穂商大）, 23. It is very difficult for me to (      ) this matter.\t1) discuss about\t2) talk\t3) speak about\t4) tell\t（東北学院大）, 24. When I look at this picture, it always (      ) me of my grandmother.\t1) recalls\t2) reminds\t3) remembers\t4) recognizes\t（昭和女大）, 25. Please inform (      ) the economic situation in China after you get there.\t1) me of\t2) me\t3) for me about\t4) to me\t（桃山学院大）, 26. Someone has robbed us (      ) all our money.\t1) from\t2) at\t3) by\t4) of\t（上智大）, 27. A train crash prevented him (      ) the meeting.\t1) attended\t2) by attending\t3) from attending\t4) to attend\t（大阪電通大）, 28. The man built a fire in order to keep his hands (      ) freezing.\t1) from\t2) out of\t3) away\t4) for\t（国士舘大）, 29. Minors are prohibited (      ) smoking in our country.\t1) for\t2) from\t3) in\t4) of\t（千葉商大）, 30. A few minutes' walk (      ) me to the ruins of Olympia.\t1) arrived\t2) brought\t3) came\t4) reached\t（南山大）（2）次の英文の下線部には誤っている箇所がそれぞれ一つずつある。その番号を指摘した上で，正しい形に直しなさい。, 1. The value of the yen declines as the rate of inflation raises.\t（早稲田大）, 2. When I graduated the high school, I was so exhausted that I decided to go to university to rest for four years.\t（上智大）, 3. While the proposal seemed acceptably to student leaders, the president considered it impractical.\t（成蹊大）, 4. Mary explained me how the new computer system worked at her school.\t（明海大）（3）次の日本文の意味になるように，（　）内の語または語句を並べかえて英文を完成させなさい。, 1. 病気のせいで，残念ながらあなたにお目にかかれませんでした。\tSickness ( of / pleasure / you / deprived / the / seeing / of / me ).\t（姫路工大）, 2. ちょっと考えてみれば，君が間違っていることが分かるでしょう。\tA ( you are / that / wrong / little / will / you / consideration / tell ).\t（東京家政大）, 3. この曲がりくねった道を行けば美術館に出ます。\t( this / will / you / take / the / to / road / museum / winding ).\t（獨協大）, 4. この本を読めば，ハーブ栽培に必要な知識が得られます。\t( readers / this book / provide / will / the knowledge / with ) they need in order to plant herbs.\t（武庫川女大）, 5. この薬は君によく効くでしょう。\t( medicine / will / you / do / this / good ).\t（日本工大）, 6. パソコンのおかげで，大幅に時間と労力が省けます。\t( a / us / spares / personal computer / time and / a lot of / energy ).\t（神奈川工科大）, 3. 時制空所に入れるのに最も適切な語句を，下の1) 〜4) から一つずつ選びなさい。, 【例題17】When I heard that she was married, I (    ) very surprised.\t1) be\t2) am\t3) was\t4) will be, 【例題18】She usually gets up at 6, but at this moment she (    ).\t1) was sleeping\t2) is sleeping\t3) slept\t4) sleeps, 【例題19】Tom (    ) to the music club at school.\t1) belongs\t2) is belonging\t3) is belonged\t4) belong, 【例題20】If David climbs Mt. Fuji tomorrow, he (    ) it three times.\t1) climbs\t2) has climbed\t3) will have climbed\t4) had climbed, 【例題21】As the examination is near, Mike (    ) since this morning.\t1) is studying\t2) was studying\t3) has been studying\t4) had been studying, 【例題22】A: When (    ) Mary?B: Just now.\t1) have you seen\t2) did you see\t3) are you seeing\t4) were you seeing, ...]\n",
       "\n",
       "[404 rows x 0 columns]"
      ]
     },
     "execution_count": 123,
     "metadata": {},
     "output_type": "execute_result"
    }
   ],
   "source": [
    "df"
   ]
  },
  {
   "cell_type": "code",
   "execution_count": 124,
   "metadata": {},
   "outputs": [],
   "source": [
    "writer = pd.ExcelWriter('output.xlsx', engine=\"openpyxl\")\n",
    "df.to_excel(writer, \"Sheet1\")\n",
    "\n",
    "writer.save()"
   ]
  },
  {
   "cell_type": "code",
   "execution_count": 125,
   "metadata": {},
   "outputs": [],
   "source": [
    "\n",
    "df.to_csv(\"output.csv\")\n"
   ]
  },
  {
   "cell_type": "code",
   "execution_count": null,
   "metadata": {},
   "outputs": [],
   "source": []
  },
  {
   "cell_type": "code",
   "execution_count": null,
   "metadata": {},
   "outputs": [],
   "source": []
  },
  {
   "cell_type": "code",
   "execution_count": null,
   "metadata": {
    "collapsed": true
   },
   "outputs": [],
   "source": []
  }
 ],
 "metadata": {
  "kernelspec": {
   "display_name": "Python [default]",
   "language": "python",
   "name": "python3"
  },
  "language_info": {
   "codemirror_mode": {
    "name": "ipython",
    "version": 3
   },
   "file_extension": ".py",
   "mimetype": "text/x-python",
   "name": "python",
   "nbconvert_exporter": "python",
   "pygments_lexer": "ipython3",
   "version": "3.6.3"
  }
 },
 "nbformat": 4,
 "nbformat_minor": 2
}
